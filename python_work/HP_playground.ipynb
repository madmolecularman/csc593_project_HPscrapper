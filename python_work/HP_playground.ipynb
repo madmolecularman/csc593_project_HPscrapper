{
 "cells": [
  {
   "cell_type": "code",
   "execution_count": 1,
   "metadata": {},
   "outputs": [],
   "source": [
    "import Bio"
   ]
  },
  {
   "cell_type": "code",
   "execution_count": 2,
   "metadata": {},
   "outputs": [
    {
     "name": "stdout",
     "output_type": "stream",
     "text": [
      "1.78\n"
     ]
    }
   ],
   "source": [
    "print(Bio.__version__)"
   ]
  },
  {
   "cell_type": "code",
   "execution_count": 3,
   "metadata": {},
   "outputs": [
    {
     "data": {
      "text/plain": [
       "Seq('AGTACACTGGT')"
      ]
     },
     "execution_count": 3,
     "metadata": {},
     "output_type": "execute_result"
    }
   ],
   "source": [
    "from Bio.Seq import Seq\n",
    "my_seq = Seq(\"AGTACACTGGT\")\n",
    "my_seq"
   ]
  },
  {
   "cell_type": "code",
   "execution_count": 12,
   "metadata": {},
   "outputs": [
    {
     "data": {
      "text/plain": [
       "['pubmed', 'protein', 'nuccore', 'ipg', 'nucleotide', 'structure', 'sparcle', 'protfam', 'genome', 'annotinfo', 'assembly', 'bioproject', 'biosample', 'blastdbinfo', 'books', 'cdd', 'clinvar', 'gap', 'gapplus', 'grasp', 'dbvar', 'gene', 'gds', 'geoprofiles', 'homologene', 'medgen', 'mesh', 'ncbisearch', 'nlmcatalog', 'omim', 'orgtrack', 'pmc', 'popset', 'proteinclusters', 'pcassay', 'biosystems', 'pccompound', 'pcsubstance', 'seqannot', 'snp', 'sra', 'taxonomy', 'biocollections', 'gtr']"
      ]
     },
     "execution_count": 12,
     "metadata": {},
     "output_type": "execute_result"
    }
   ],
   "source": [
    "# Playing with Entrez\n",
    "from Bio import Entrez\n",
    "Entrez.api_key = \"92471a1f25f1f658f6711d0c7bc31ff80708\"\n",
    "Entrez.email = \"gree9242@uri.edu\"\n",
    "handle = Entrez.einfo()\n",
    "record = Entrez.read(handle)\n",
    "record.keys()\n",
    "record[\"DbList\"]"
   ]
  },
  {
   "cell_type": "code",
   "execution_count": 34,
   "metadata": {},
   "outputs": [
    {
     "ename": "NameError",
     "evalue": "name 'host' is not defined",
     "output_type": "error",
     "traceback": [
      "\u001b[1;31m---------------------------------------------------------------------------\u001b[0m",
      "\u001b[1;31mNameError\u001b[0m                                 Traceback (most recent call last)",
      "\u001b[1;32m<ipython-input-34-a52d3830e303>\u001b[0m in \u001b[0;36m<module>\u001b[1;34m\u001b[0m\n\u001b[0;32m     21\u001b[0m     \u001b[1;32melif\u001b[0m \u001b[0msys\u001b[0m\u001b[1;33m.\u001b[0m\u001b[0margv\u001b[0m\u001b[1;33m[\u001b[0m\u001b[0mi\u001b[0m\u001b[1;33m]\u001b[0m \u001b[1;33m==\u001b[0m \u001b[1;34m\"-outdir\"\u001b[0m\u001b[1;33m:\u001b[0m\u001b[1;33m\u001b[0m\u001b[1;33m\u001b[0m\u001b[0m\n\u001b[0;32m     22\u001b[0m         \u001b[0mout\u001b[0m \u001b[1;33m=\u001b[0m \u001b[0msys\u001b[0m\u001b[1;33m.\u001b[0m\u001b[0margv\u001b[0m\u001b[1;33m[\u001b[0m\u001b[0mi\u001b[0m\u001b[1;33m+\u001b[0m\u001b[1;36m1\u001b[0m\u001b[1;33m]\u001b[0m\u001b[1;33m\u001b[0m\u001b[1;33m\u001b[0m\u001b[0m\n\u001b[1;32m---> 23\u001b[1;33m \u001b[0mprint\u001b[0m\u001b[1;33m(\u001b[0m\u001b[0mhost\u001b[0m\u001b[1;33m)\u001b[0m\u001b[1;33m\u001b[0m\u001b[1;33m\u001b[0m\u001b[0m\n\u001b[0m\u001b[0;32m     24\u001b[0m \u001b[0mprint\u001b[0m\u001b[1;33m(\u001b[0m\u001b[0mpath\u001b[0m\u001b[1;33m)\u001b[0m\u001b[1;33m\u001b[0m\u001b[1;33m\u001b[0m\u001b[0m\n\u001b[0;32m     25\u001b[0m \u001b[0mprint\u001b[0m\u001b[1;33m(\u001b[0m\u001b[0mout\u001b[0m\u001b[1;33m)\u001b[0m\u001b[1;33m\u001b[0m\u001b[1;33m\u001b[0m\u001b[0m\n",
      "\u001b[1;31mNameError\u001b[0m: name 'host' is not defined"
     ]
    }
   ],
   "source": [
    "# Define arguments for the identify script\n",
    "# import sys module\n",
    "import sys\n",
    "# Usage statement\n",
    "if len(sys.argv)<3:\n",
    "    print(\"\")\n",
    "    print(\"This script will take the taxonomic name (genus and species) of a host and pathogen, mine NCBI for their records, and save the full genbank record, ten assocaited publications, and a list of the relevant accession numbers to access genetic information\")\n",
    "    print(\"Usage: identify.py -ht <genus_species> -pt <genus_species> -outdir <output_directory_name>\")\n",
    "    print(\"-ht = host genus and species\")\n",
    "    print(\"-pt = pathogen genus and species\")\n",
    "    print(\"-outdir = output directory name/location\")\n",
    "    print(\"If there are any problems please contact gree9242@uri.edu\")\n",
    "    print(\"\")\n",
    "    sys.exit()\n",
    "# For loop to define the arguments as variables\n",
    "for i in range(len(sys.argv)):\n",
    "    if sys.argv[i] == \"-ht\":\n",
    "        host = sys.argv[i+1]\n",
    "    elif sys.argv[i] == \"-pt\":\n",
    "        path = sys.argv[i+1]\n",
    "    elif sys.argv[i] == \"-outdir\":\n",
    "        out = sys.argv[i+1]\n",
    "print(host)\n",
    "print(path)\n",
    "print(out)\n",
    "\n",
    "Outfilename = out\n",
    "Outfile = open(OutFileName,'w')"
   ]
  },
  {
   "cell_type": "code",
   "execution_count": 7,
   "metadata": {},
   "outputs": [
    {
     "name": "stdout",
     "output_type": "stream",
     "text": [
      "1070 number of host ids found\n",
      "\n",
      "['8547581', '8544861', '8384291', '8382051', '8382041', '8381991', '8381981', '8381971', '8381961', '8381951'] host id list\n",
      "\n",
      "930496 pathogen ids found\n",
      "\n",
      "['6XH3_D', '6XH2_D', '6XH1_D', '6XH0_D', '7JU1_X', '7K1Z_A', '6WB2_C', '6WB1_C', '6WB0_C', '6WAZ_C'] pathogen id list\n"
     ]
    }
   ],
   "source": [
    "# Script to identify pathogen and host record within NCBI (identify.py)\n",
    "# You will need to add your own api key from NCBI\n",
    "# Always add an email so NCBI may contact you if there are problems\n",
    "from Bio import Entrez\n",
    "Entrez.api_key = \"92471a1f25f1f658f6711d0c7bc31ff80708\"\n",
    "Entrez.email = \"gree9242@uri.edu\"\n",
    "handle1 = Entrez.esearch(db='assembly',term=\"human[orgn]\",idtype=\"acc\",retmax='10')\n",
    "handle2 = Entrez.esearch(db='nucleotide',term=\"Human immunodeficiency virus 1\",idtype=\"acc\",retmax='10')\n",
    "record1 = Entrez.read(handle1)\n",
    "record2 = Entrez.read(handle2)\n",
    "print('{} number of host ids found'.format(record1[\"Count\"]))\n",
    "print()\n",
    "print('{} host id list'.format(record1[\"IdList\"]))\n",
    "print()\n",
    "print('{} pathogen ids found'.format(record2[\"Count\"]))\n",
    "print()\n",
    "print('{} pathogen id list'.format(record2[\"IdList\"]))\n",
    "\n",
    "# Access record and parse sequence \n",
    "from Bio import SeqIO\n",
    "from Bio import Entrez\n",
    "Entrez.email = \"A.N.Other@example.com\"  # Always tell NCBI who you are\n",
    "handle = Entrez.efetch(db=\"nucleotide\", id=\"EU490707\", rettype=\"gb\", retmode=\"text\")\n",
    "record = SeqIO.read(handle, \"genbank\")\n",
    "handle.close()\n",
    "\n",
    "# Find related papers\n",
    "#Use this pmid to reference object of ids\n",
    "pmid = \"19304878\"\n",
    "record = Entrez.read(Entrez.elink(dbfrom=\"pubmed\", id=pmid))\n",
    "\n",
    "# Section 9.5.1, 9.5.2, 9.5.3, 9.5.4, would be good to use\n"
   ]
  },
  {
   "cell_type": "code",
   "execution_count": null,
   "metadata": {},
   "outputs": [],
   "source": [
    "# A way to save records\n",
    "filename = \"EU490707.gbk\"\n",
    "if not os.path.isfile(filename):\n",
    "    # Downloading...\n",
    "    net_handle = Entrez.efetch(\n",
    "        db=\"nucleotide\", id=\"EU490707\", rettype=\"gb\", retmode=\"text\"\n",
    "    )\n",
    "    out_handle = open(filename, \"w\")\n",
    "    out_handle.write(net_handle.read())\n",
    "    out_handle.close()\n",
    "    net_handle.close()\n",
    "    print(\"Saved\")"
   ]
  },
  {
   "cell_type": "code",
   "execution_count": 8,
   "metadata": {},
   "outputs": [
    {
     "name": "stdout",
     "output_type": "stream",
     "text": [
      "LOCUS       6XH3_D                    27 bp    RNA     linear   VRL 01-DEC-2020\n",
      "DEFINITION  Co-crystal structure of HIV-1 TAR RNA in complex with lab-evolved\n",
      "            RRM TBP6.3.\n",
      "ACCESSION   6XH3_D\n",
      "VERSION     6XH3_D\n",
      "KEYWORDS    .\n",
      "SOURCE      Human immunodeficiency virus 1 (HIV-1)\n",
      "  ORGANISM  Human immunodeficiency virus 1\n",
      "            Viruses; Riboviria; Pararnavirae; Artverviricota; Revtraviricetes;\n",
      "            Ortervirales; Retroviridae; Orthoretrovirinae; Lentivirus.\n",
      "REFERENCE   1  (bases 1 to 27)\n",
      "  AUTHORS   Chavali,S.S., Mali,S.M., Jenkins,J.L., Fasan,R. and Wedekind,J.E.\n",
      "  TITLE     Co-crystal structures of HIV TAR RNA bound to lab-evolved proteins\n",
      "            show key roles for arginine relevant to the design of cyclic\n",
      "            peptide TAR inhibitors\n",
      "  JOURNAL   Unpublished\n",
      "REFERENCE   2  (bases 1 to 27)\n",
      "  AUTHORS   Chavali,S.S., Jenkins,J.L. and Wedekind,J.E.\n",
      "  TITLE     Direct Submission\n",
      "  JOURNAL   Submitted (18-JUN-2020)\n",
      "COMMENT     Co-crystal structure of HIV-1 TAR RNA in complex with lab-evolved\n",
      "            RRM TBP6.3.\n",
      "FEATURES             Location/Qualifiers\n",
      "     source          1..27\n",
      "                     /organism=\"Human immunodeficiency virus 1\"\n",
      "                     /mol_type=\"other RNA\"\n",
      "                     /db_xref=\"taxon:11676\"\n",
      "ORIGIN      \n",
      "        1 ggagatctga gcctgggagc tctctcc\n",
      "//\n",
      "\n",
      "\n",
      "LOCUS       6XH2_D                    27 bp    RNA     linear   VRL 01-DEC-2020\n",
      "DEFINITION  Co-crystal structure of HIV-1 TAR RNA in complex with lab-evolved\n",
      "            RRM 6.6.\n",
      "ACCESSION   6XH2_D\n",
      "VERSION     6XH2_D\n",
      "KEYWORDS    .\n",
      "SOURCE      Human immunodeficiency virus 1 (HIV-1)\n",
      "  ORGANISM  Human immunodeficiency virus 1\n",
      "            Viruses; Riboviria; Pararnavirae; Artverviricota; Revtraviricetes;\n",
      "            Ortervirales; Retroviridae; Orthoretrovirinae; Lentivirus.\n",
      "REFERENCE   1  (bases 1 to 27)\n",
      "  AUTHORS   Chavali,S.S., Mali,S.M., Jenkins,J.L., Fasan,R. and Wedekind,J.E.\n",
      "  TITLE     Co-crystal structures of HIV TAR RNA bound to lab-evolved proteins\n",
      "            show key roles for arginine relevant to the design of cyclic\n",
      "            peptide TAR inhibitors\n",
      "  JOURNAL   Unpublished\n",
      "REFERENCE   2  (bases 1 to 27)\n",
      "  AUTHORS   Chavali,S.S., Jenkins,J.L. and Wedekind,J.E.\n",
      "  TITLE     Direct Submission\n",
      "  JOURNAL   Submitted (18-JUN-2020)\n",
      "COMMENT     Co-crystal structure of HIV-1 TAR RNA in complex with lab-evolved\n",
      "            RRM 6.6.\n",
      "FEATURES             Location/Qualifiers\n",
      "     source          1..27\n",
      "                     /organism=\"Human immunodeficiency virus 1\"\n",
      "                     /mol_type=\"other RNA\"\n",
      "                     /db_xref=\"taxon:11676\"\n",
      "ORIGIN      \n",
      "        1 gcagatctga gcctgggagc tctctgc\n",
      "//\n",
      "\n",
      "\n",
      "LOCUS       6XH1_D                    27 bp    RNA     linear   VRL 01-DEC-2020\n",
      "DEFINITION  Co-crystal structure of HIV-1 TAR RNA in complex with lab-evolved\n",
      "            RRM TBP6.7 mutant.\n",
      "ACCESSION   6XH1_D\n",
      "VERSION     6XH1_D\n",
      "KEYWORDS    .\n",
      "SOURCE      Human immunodeficiency virus 1 (HIV-1)\n",
      "  ORGANISM  Human immunodeficiency virus 1\n",
      "            Viruses; Riboviria; Pararnavirae; Artverviricota; Revtraviricetes;\n",
      "            Ortervirales; Retroviridae; Orthoretrovirinae; Lentivirus.\n",
      "REFERENCE   1  (bases 1 to 27)\n",
      "  AUTHORS   Chavali,S.S., Mali,S.M., Jenkins,J.L., Fasan,R. and Wedekind,J.E.\n",
      "  TITLE     Co-crystal structures of HIV TAR RNA bound to lab-evolved proteins\n",
      "            show key roles for arginine relevant to the design of cyclic\n",
      "            peptide TAR inhibitors\n",
      "  JOURNAL   Unpublished\n",
      "REFERENCE   2  (bases 1 to 27)\n",
      "  AUTHORS   Chavali,S.S., Jenkins,J.L. and Wedekind,J.E.\n",
      "  TITLE     Direct Submission\n",
      "  JOURNAL   Submitted (18-JUN-2020)\n",
      "COMMENT     Co-crystal structure of HIV-1 TAR RNA in complex with lab-evolved\n",
      "            RRM TBP6.7 mutant.\n",
      "FEATURES             Location/Qualifiers\n",
      "     source          1..27\n",
      "                     /organism=\"Human immunodeficiency virus 1\"\n",
      "                     /mol_type=\"other RNA\"\n",
      "                     /db_xref=\"taxon:11676\"\n",
      "ORIGIN      \n",
      "        1 ggagatctga gcctgggagc tctctcc\n",
      "//\n",
      "\n",
      "\n",
      "LOCUS       6XH0_D                    27 bp    RNA     linear   VRL 01-DEC-2020\n",
      "DEFINITION  Co-crystal structure of HIV-1 TAR RNA in complex with lab-evolved\n",
      "            RRM TBP6.9.\n",
      "ACCESSION   6XH0_D\n",
      "VERSION     6XH0_D\n",
      "KEYWORDS    .\n",
      "SOURCE      Human immunodeficiency virus 1 (HIV-1)\n",
      "  ORGANISM  Human immunodeficiency virus 1\n",
      "            Viruses; Riboviria; Pararnavirae; Artverviricota; Revtraviricetes;\n",
      "            Ortervirales; Retroviridae; Orthoretrovirinae; Lentivirus.\n",
      "REFERENCE   1  (bases 1 to 27)\n",
      "  AUTHORS   Chavali,S.S., Mali,S.M., Jenkins,J.L., Fasan,R. and Wedekind,J.E.\n",
      "  TITLE     Co-crystal structures of HIV TAR RNA bound to lab-evolved proteins\n",
      "            show key roles for arginine relevant to the design of cyclic\n",
      "            peptide TAR inhibitors\n",
      "  JOURNAL   Unpublished\n",
      "REFERENCE   2  (bases 1 to 27)\n",
      "  AUTHORS   Chavali,S.S., Jenkins,J.L. and Wedekind,J.E.\n",
      "  TITLE     Direct Submission\n",
      "  JOURNAL   Submitted (18-JUN-2020)\n",
      "COMMENT     Co-crystal structure of HIV-1 TAR RNA in complex with lab-evolved\n",
      "            RRM TBP6.9.\n",
      "FEATURES             Location/Qualifiers\n",
      "     source          1..27\n",
      "                     /organism=\"Human immunodeficiency virus 1\"\n",
      "                     /mol_type=\"other RNA\"\n",
      "                     /db_xref=\"taxon:11676\"\n",
      "ORIGIN      \n",
      "        1 gcagatctga gcctgggagc tctctgc\n",
      "//\n",
      "\n",
      "\n",
      "LOCUS       7JU1_X                    29 bp    RNA     linear   VRL 01-DEC-2020\n",
      "DEFINITION  The FARFAR-NMR Ensemble of 29-mer HIV-1 Trans-activation Response\n",
      "            Element RNA (N=20).\n",
      "ACCESSION   7JU1_X\n",
      "VERSION     7JU1_X\n",
      "KEYWORDS    .\n",
      "SOURCE      Human immunodeficiency virus 1 (HIV-1)\n",
      "  ORGANISM  Human immunodeficiency virus 1\n",
      "            Viruses; Riboviria; Pararnavirae; Artverviricota; Revtraviricetes;\n",
      "            Ortervirales; Retroviridae; Orthoretrovirinae; Lentivirus.\n",
      "REFERENCE   1  (bases 1 to 29)\n",
      "  AUTHORS   Shi,H., Rangadurai,A., Abou-Assi,H., Roy,R., Case,D.A.,\n",
      "            Herschlag,D., Yesselman,J.D. and Al-Hashimi,H.M.\n",
      "  TITLE     Rapid and accurate determination of atomistic RNA dynamic ensemble\n",
      "            models using NMR and structure prediction\n",
      "  JOURNAL   Nat Commun (2020)\n",
      "REFERENCE   2  (bases 1 to 29)\n",
      "  AUTHORS   Shi,H., Rangadurai,A., Roy,R., Yesselman,J.D. and Al-Hashimi,H.M.\n",
      "  TITLE     Direct Submission\n",
      "  JOURNAL   Submitted (18-AUG-2020)\n",
      "COMMENT     The FARFAR-NMR Ensemble of 29-mer HIV-1 Trans-activation Response\n",
      "            Element RNA (N=20).\n",
      "FEATURES             Location/Qualifiers\n",
      "     source          1..29\n",
      "                     /organism=\"Human immunodeficiency virus 1\"\n",
      "                     /mol_type=\"other RNA\"\n",
      "                     /db_xref=\"taxon:11676\"\n",
      "ORIGIN      \n",
      "        1 ggcagatctg agcctgggag ctctctgcc\n",
      "//\n",
      "\n",
      "\n",
      "LOCUS       7K1Z_A                   103 bp    RNA     linear   VRL 01-DEC-2020\n",
      "DEFINITION  Solution structure of the HIV-1 PBS-segment.\n",
      "ACCESSION   7K1Z_A\n",
      "VERSION     7K1Z_A\n",
      "KEYWORDS    .\n",
      "SOURCE      Human immunodeficiency virus 1 (HIV-1)\n",
      "  ORGANISM  Human immunodeficiency virus 1\n",
      "            Viruses; Riboviria; Pararnavirae; Artverviricota; Revtraviricetes;\n",
      "            Ortervirales; Retroviridae; Orthoretrovirinae; Lentivirus.\n",
      "REFERENCE   1  (bases 1 to 103)\n",
      "  AUTHORS   Song,Z. and Heng,X.\n",
      "  TITLE     Structure of the HIV-1 PBS-segment is conserved for viral\n",
      "            infectivity\n",
      "  JOURNAL   Unpublished\n",
      "REFERENCE   2  (bases 1 to 103)\n",
      "  AUTHORS   Heng,X. and Song,Z.\n",
      "  TITLE     Direct Submission\n",
      "  JOURNAL   Submitted (08-SEP-2020)\n",
      "COMMENT     Solution structure of the HIV-1 PBS-segment.\n",
      "FEATURES             Location/Qualifiers\n",
      "     source          1..103\n",
      "                     /organism=\"Human immunodeficiency virus 1\"\n",
      "                     /mol_type=\"other RNA\"\n",
      "                     /db_xref=\"taxon:11676\"\n",
      "ORIGIN      \n",
      "        1 ggctctggta actagagatc cctcagaccc ttttagtcag tgtggaaaat ctctagcagt\n",
      "       61 ggcgcccgaa cagggacttg aaagcgaaag taaagccaga gcc\n",
      "//\n",
      "\n",
      "\n",
      "LOCUS       6WB2_C                   101 bp    RNA     linear   VRL 01-DEC-2020\n",
      "DEFINITION  +3 extended HIV-1 reverse transcriptase initiation complex core\n",
      "            (displaced state).\n",
      "ACCESSION   6WB2_C\n",
      "VERSION     6WB2_C\n",
      "KEYWORDS    .\n",
      "SOURCE      Human immunodeficiency virus 1 (HIV-1)\n",
      "  ORGANISM  Human immunodeficiency virus 1\n",
      "            Viruses; Riboviria; Pararnavirae; Artverviricota; Revtraviricetes;\n",
      "            Ortervirales; Retroviridae; Orthoretrovirinae; Lentivirus.\n",
      "REFERENCE   1  (bases 1 to 101)\n",
      "  AUTHORS   Larsen,K.P., Choi,J., Jackson,L.N., Kappel,K., Zhang,J., Ha,B.,\n",
      "            Chen,D.H. and Puglisi,E.V.\n",
      "  TITLE     Distinct Conformational States Underlie Pausing during Initiation\n",
      "            of HIV-1 Reverse Transcription\n",
      "  JOURNAL   J Mol Biol 432 (16), 4499-4522 (2020)\n",
      "   PUBMED   32512005\n",
      "REFERENCE   2  (bases 1 to 101)\n",
      "  AUTHORS   Larsen,K.P., Jackson,L.N., Kappel,K., Zhang,J., Chen,D.H. and\n",
      "            Puglisi,E.V.\n",
      "  TITLE     Direct Submission\n",
      "  JOURNAL   Submitted (26-MAR-2020)\n",
      "COMMENT     +3 extended HIV-1 reverse transcriptase initiation complex core\n",
      "            (displaced state).\n",
      "FEATURES             Location/Qualifiers\n",
      "     source          1..101\n",
      "                     /organism=\"Human immunodeficiency virus 1\"\n",
      "                     /mol_type=\"other RNA\"\n",
      "                     /db_xref=\"taxon:11676\"\n",
      "ORIGIN      \n",
      "        1 gactctggta actagagatc cctcagaccc ttttagtcag tgtggaaaat ctctagcagt\n",
      "       61 ggcgcccgaa cagggacttg aaagcgaaag taaagccaga g\n",
      "//\n",
      "\n",
      "\n",
      "LOCUS       6WB1_C                   101 bp    RNA     linear   VRL 01-DEC-2020\n",
      "DEFINITION  +3 extended HIV-1 reverse transcriptase initiation complex core\n",
      "            (intermediate state).\n",
      "ACCESSION   6WB1_C\n",
      "VERSION     6WB1_C\n",
      "KEYWORDS    .\n",
      "SOURCE      Human immunodeficiency virus 1 (HIV-1)\n",
      "  ORGANISM  Human immunodeficiency virus 1\n",
      "            Viruses; Riboviria; Pararnavirae; Artverviricota; Revtraviricetes;\n",
      "            Ortervirales; Retroviridae; Orthoretrovirinae; Lentivirus.\n",
      "REFERENCE   1  (bases 1 to 101)\n",
      "  AUTHORS   Larsen,K.P., Choi,J., Jackson,L.N., Kappel,K., Zhang,J., Ha,B.,\n",
      "            Chen,D.H. and Puglisi,E.V.\n",
      "  TITLE     Distinct Conformational States Underlie Pausing during Initiation\n",
      "            of HIV-1 Reverse Transcription\n",
      "  JOURNAL   J Mol Biol 432 (16), 4499-4522 (2020)\n",
      "   PUBMED   32512005\n",
      "REFERENCE   2  (bases 1 to 101)\n",
      "  AUTHORS   Larsen,K.P., Jackson,L.N., Kappel,K., Zhang,J., Chen,D.H. and\n",
      "            Puglisi,E.V.\n",
      "  TITLE     Direct Submission\n",
      "  JOURNAL   Submitted (26-MAR-2020)\n",
      "COMMENT     +3 extended HIV-1 reverse transcriptase initiation complex core\n",
      "            (intermediate state).\n",
      "FEATURES             Location/Qualifiers\n",
      "     source          1..101\n",
      "                     /organism=\"Human immunodeficiency virus 1\"\n",
      "                     /mol_type=\"other RNA\"\n",
      "                     /db_xref=\"taxon:11676\"\n",
      "ORIGIN      \n",
      "        1 gactctggta actagagatc cctcagaccc ttttagtcag tgtggaaaat ctctagcagt\n",
      "       61 ggcgcccgaa cagggacttg aaagcgaaag taaagccaga g\n",
      "//\n",
      "\n",
      "\n"
     ]
    },
    {
     "name": "stdout",
     "output_type": "stream",
     "text": [
      "LOCUS       6WB0_C                   101 bp    RNA     linear   VRL 01-DEC-2020\n",
      "DEFINITION  +3 extended HIV-1 reverse transcriptase initiation complex core\n",
      "            (pre-translocation state).\n",
      "ACCESSION   6WB0_C\n",
      "VERSION     6WB0_C\n",
      "KEYWORDS    .\n",
      "SOURCE      Human immunodeficiency virus 1 (HIV-1)\n",
      "  ORGANISM  Human immunodeficiency virus 1\n",
      "            Viruses; Riboviria; Pararnavirae; Artverviricota; Revtraviricetes;\n",
      "            Ortervirales; Retroviridae; Orthoretrovirinae; Lentivirus.\n",
      "REFERENCE   1  (bases 1 to 101)\n",
      "  AUTHORS   Larsen,K.P., Choi,J., Jackson,L.N., Kappel,K., Zhang,J., Ha,B.,\n",
      "            Chen,D.H. and Puglisi,E.V.\n",
      "  TITLE     Distinct Conformational States Underlie Pausing during Initiation\n",
      "            of HIV-1 Reverse Transcription\n",
      "  JOURNAL   J Mol Biol 432 (16), 4499-4522 (2020)\n",
      "   PUBMED   32512005\n",
      "REFERENCE   2  (bases 1 to 101)\n",
      "  AUTHORS   Larsen,K.P., Jackson,L.N., Kappel,K., Zhang,J. and Puglisi,E.V.\n",
      "  TITLE     Direct Submission\n",
      "  JOURNAL   Submitted (26-MAR-2020)\n",
      "COMMENT     +3 extended HIV-1 reverse transcriptase initiation complex core\n",
      "            (pre-translocation state).\n",
      "FEATURES             Location/Qualifiers\n",
      "     source          1..101\n",
      "                     /organism=\"Human immunodeficiency virus 1\"\n",
      "                     /mol_type=\"other RNA\"\n",
      "                     /db_xref=\"taxon:11676\"\n",
      "ORIGIN      \n",
      "        1 gactctggta actagagatc cctcagaccc ttttagtcag tgtggaaaat ctctagcagt\n",
      "       61 ggcgcccgaa cagggacttg aaagcgaaag taaagccaga g\n",
      "//\n",
      "\n",
      "\n",
      "LOCUS       6WAZ_C                   101 bp    RNA     linear   VRL 01-DEC-2020\n",
      "DEFINITION  +1 extended HIV-1 reverse transcriptase initiation complex core\n",
      "            (pre-translocation state).\n",
      "ACCESSION   6WAZ_C\n",
      "VERSION     6WAZ_C\n",
      "KEYWORDS    .\n",
      "SOURCE      Human immunodeficiency virus 1 (HIV-1)\n",
      "  ORGANISM  Human immunodeficiency virus 1\n",
      "            Viruses; Riboviria; Pararnavirae; Artverviricota; Revtraviricetes;\n",
      "            Ortervirales; Retroviridae; Orthoretrovirinae; Lentivirus.\n",
      "REFERENCE   1  (bases 1 to 101)\n",
      "  AUTHORS   Larsen,K.P., Choi,J., Jackson,L.N., Kappel,K., Zhang,J., Ha,B.,\n",
      "            Chen,D.H. and Puglisi,E.V.\n",
      "  TITLE     Distinct Conformational States Underlie Pausing during Initiation\n",
      "            of HIV-1 Reverse Transcription\n",
      "  JOURNAL   J Mol Biol 432 (16), 4499-4522 (2020)\n",
      "   PUBMED   32512005\n",
      "REFERENCE   2  (bases 1 to 101)\n",
      "  AUTHORS   Larsen,K.P., Jackson,L.N., Kappel,K., Zhang,J. and Puglisi,E.V.\n",
      "  TITLE     Direct Submission\n",
      "  JOURNAL   Submitted (26-MAR-2020)\n",
      "COMMENT     +1 extended HIV-1 reverse transcriptase initiation complex core\n",
      "            (pre-translocation state).\n",
      "FEATURES             Location/Qualifiers\n",
      "     source          1..101\n",
      "                     /organism=\"Human immunodeficiency virus 1\"\n",
      "                     /mol_type=\"other RNA\"\n",
      "                     /db_xref=\"taxon:11676\"\n",
      "ORIGIN      \n",
      "        1 gactctggta actagagatc cctcagaccc ttttagtcag tgtggaaaat ctctagcagt\n",
      "       61 ggcgcccgaa cagggacttg aaagcgaaag taaagccaga g\n",
      "//\n",
      "\n",
      "\n"
     ]
    }
   ],
   "source": [
    "#Full record works!\n",
    "for i in record2[\"IdList\"]:\n",
    "    handle = Entrez.efetch(db='nucleotide',id=i, rettype=\"gb\", retmode=\"text\",retmax=10)\n",
    "    print(handle.read())"
   ]
  },
  {
   "cell_type": "code",
   "execution_count": 27,
   "metadata": {},
   "outputs": [
    {
     "name": "stdout",
     "output_type": "stream",
     "text": [
      "75403\n"
     ]
    }
   ],
   "source": [
    "# Section 19.5.1\n",
    "# Finding articles\n",
    "handle = Entrez.egquery(term=\"COVID19\")\n",
    "record = Entrez.read(handle)\n",
    "for row in record[\"eGQueryResult\"]:\n",
    "    if row[\"DbName\"]==\"pubmed\":\n",
    "        print(row[\"Count\"])"
   ]
  },
  {
   "cell_type": "code",
   "execution_count": 28,
   "metadata": {},
   "outputs": [
    {
     "name": "stdout",
     "output_type": "stream",
     "text": [
      "['33278857', '33278855', '33278850', '33278758', '33278747', '33278737', '33278734', '33278717', '33278644', '33278625', '33278624', '33278610', '33278609', '33278574', '33278549', '33278526', '33278517', '33278516', '33278503', '33278491']\n"
     ]
    }
   ],
   "source": [
    "#Downloading articles\n",
    "handle = Entrez.esearch(db=\"pubmed\", term=\"COVID19\", retmax=20)\n",
    "record = Entrez.read(handle)\n",
    "handle.close()\n",
    "idlist = record[\"IdList\"]\n",
    "print(idlist)"
   ]
  },
  {
   "cell_type": "code",
   "execution_count": 29,
   "metadata": {},
   "outputs": [
    {
     "name": "stdout",
     "output_type": "stream",
     "text": [
      "[{'PMID': '33278857', 'OWN': 'NLM', 'STAT': 'Publisher', 'LR': '20201205', 'IS': '1742-1241 (Electronic) 1368-5031 (Linking)', 'DP': '2020 Dec 5', 'TI': \"While studies on covid-19 vaccine is ongoing; the public's thoughts and attitudes to the future Covid-19 vaccine.\", 'PG': 'e13891', 'LID': '10.1111/ijcp.13891 [doi]', 'AB': 'OBJECTIVE: In this study, we aim to investigate the thoughts and attitudes of individuals towards the future COVID-19 vaccine. METHODS: This descriptive study was carried out on the web between 10/06/2020 - 10/07/2020. The sample constitutes all individuals above 18 years of age using social media and smartphone. The e-survey form was shared by the researchers via the web for a month, and those who completed the survey were included in the study and formed the sample of the research. RESULTS: Seven hundred fifty-nine were participated. 49.7% of the participants stated to be vaccinated; 38.4% of them stated to be vaccinated their children against COVID-19; if the vaccine for COVID-19 is developed. The request for the COVID-19 vaccine had relationship with gender, occupation, health insurance, anxiety level, having children, willing to get vaccinated for their children. \"Afraid of the side effects of vaccine\", \"don\\'t think it can be reliable as it will be a new vaccine\" and \"COVID-19 infection is a biological weapon and the vaccine will serve those who produce this virus\" were the most common reasons for rejection of vaccine. CONCLUSION: In our study afraid of the side effects of vaccine and not thinking it can be reliable as it will be a new vaccine is the most reasons of indecision and rejection about COVID 19 vaccine. In order for the future COVID 19 vaccination campaign to not fail, media, politicians, healthcare professionals should closely follow the vaccination development processes, inform the public transparently and consider public\\'s concerns.', 'CI': ['This article is protected by copyright. All rights reserved.'], 'FAU': ['Akarsu, Busra', 'Canbay Ozdemir, Dilara', 'Ayhan Baser, Duygu', 'Aksoy, Hilal', 'Fidanci, Izzet', 'Cankurtaran, Mustafa'], 'AU': ['Akarsu B', 'Canbay Ozdemir D', 'Ayhan Baser D', 'Aksoy H', 'Fidanci I', 'Cankurtaran M'], 'AD': ['Hacettepe University, Faculty of Medicine, Ankara, Turkey.', 'Hacettepe University, Faculty of Medicine, Ankara, Turkey.', 'Hacettepe University, Faculty of Medicine, Ankara, Turkey.', 'Hacettepe University, Faculty of Medicine, Ankara, Turkey.', 'Hacettepe University, Faculty of Medicine, Ankara, Turkey.', 'Hacettepe University, Faculty of Medicine, Ankara, Turkey.'], 'AUID': ['ORCID: https://orcid.org/0000-0002-5153-2184', 'ORCID: https://orcid.org/0000-0002-3330-9317', 'ORCID: https://orcid.org/0000-0001-9848-8697'], 'LA': ['eng'], 'PT': ['Journal Article'], 'DEP': '20201205', 'PL': 'England', 'TA': 'Int J Clin Pract', 'JT': 'International journal of clinical practice', 'JID': '9712381', 'SB': 'IM', 'OTO': ['NOTNLM'], 'OT': ['Attitudes', 'COVID-19', 'Community', 'Primary care', 'Public', 'SARS-CoV-2', 'Thoughts', 'Vaccination', 'Vaccine'], 'EDAT': '2020/12/06 06:00', 'MHDA': '2020/12/06 06:00', 'CRDT': ['2020/12/05 20:17'], 'PHST': ['2020/12/05 20:17 [entrez]', '2020/12/06 06:00 [pubmed]', '2020/12/06 06:00 [medline]'], 'AID': ['10.1111/ijcp.13891 [doi]'], 'PST': 'aheadofprint', 'SO': 'Int J Clin Pract. 2020 Dec 5:e13891. doi: 10.1111/ijcp.13891.'}, {'PMID': '33278855', 'OWN': 'NLM', 'STAT': 'Publisher', 'LR': '20201205', 'IS': '1742-1241 (Electronic) 1368-5031 (Linking)', 'DP': '2020 Dec 5', 'TI': 'COVID-19; current situation and recommended interventions.', 'PG': 'e13886', 'LID': '10.1111/ijcp.13886 [doi]', 'AB': 'BACKGROUND: The new coronavirus (SARS-COV-2) that emerged at the end of 2019 stated in China and infected millions of people around the world, with the highest spread rate among humans compared with other coronaviruses. This paper aimed to review and analyze the published studies about COVID-19 diagnosis, prevention, and treatment. METHOD: The reviewed studies were clinical trials, in-vivo, in-vitro, guidelines, reports from world health organization (WHO), and the center for disease control and prevention (CDC) in addition to systemic reviews. All data extracted and analyzed to stand on the latest updates and recommendations for fighting this severe attack of COVID-19. RESULTS: Most important antiviral therapy of COVID-19 clinical trials is still running without clear results, but a few trials have indicated the role of numerous drugs in the treatment of COVID-19. Specific recommendations for aerosol therapy should be followed for management of COVID-19. CONCLUSION: Nature of COVID-19 is still not very clear however management of the condition is similar to the previous attacks of corona viruses.', 'CI': ['This article is protected by copyright. All rights reserved.'], 'FAU': ['Saeed, Haitham', 'Osama, Hasnaa', 'Madney, Yasmin M', 'Harb, Hadeer S', 'Abdelrahman, Mona A', 'Ehrhardt, Carsten', 'Abdelrahim, Mohamed E A'], 'AU': ['Saeed H', 'Osama H', 'Madney YM', 'Harb HS', 'Abdelrahman MA', 'Ehrhardt C', 'Abdelrahim MEA'], 'AUID': ['ORCID: https://orcid.org/0000-0002-2040-9466', 'ORCID: https://orcid.org/0000-0003-4105-7874', 'ORCID: https://orcid.org/0000-0003-2259-9686', 'ORCID: https://orcid.org/0000-0002-8748-8090', 'ORCID: https://orcid.org/0000-0003-0227-8404'], 'AD': ['Clinical Pharmacy Department, Faculty of Pharmacy, Beni-Suef University, Beni-Suef, Egypt.', 'Clinical Pharmacy Department, Faculty of Pharmacy, Beni-Suef University, Beni-Suef, Egypt.', 'Clinical Pharmacy Department, Faculty of Pharmacy, Beni-Suef University, Beni-Suef, Egypt.', 'Clinical Pharmacy Department, Faculty of Pharmacy, Beni-Suef University, Beni-Suef, Egypt.', 'Clinical Pharmacy Department, Faculty of Pharmacy, Beni-Suef University, Beni-Suef, Egypt.', 'School of Pharmacy and Pharmaceutical Sciences, Trinity College Dublin, Dublin, Ireland.', 'Clinical Pharmacy Department, Faculty of Pharmacy, Beni-Suef University, Beni-Suef, Egypt.'], 'LA': ['eng'], 'PT': ['Journal Article', 'Review'], 'DEP': '20201205', 'PL': 'England', 'TA': 'Int J Clin Pract', 'JT': 'International journal of clinical practice', 'JID': '9712381', 'SB': 'IM', 'OTO': ['NOTNLM'], 'OT': ['COVID-19', 'Chloroquine', 'Coronavirus', 'Tocilizumab', 'hydroxychloroquine', 'lopinavir', 'mechanical ventilation', 'oxygen therapy', 'ritonavir'], 'EDAT': '2020/12/06 06:00', 'MHDA': '2020/12/06 06:00', 'CRDT': ['2020/12/05 20:17'], 'PHST': ['2020/12/05 20:17 [entrez]', '2020/12/06 06:00 [pubmed]', '2020/12/06 06:00 [medline]'], 'AID': ['10.1111/ijcp.13886 [doi]'], 'PST': 'aheadofprint', 'SO': 'Int J Clin Pract. 2020 Dec 5:e13886. doi: 10.1111/ijcp.13886.'}, {'PMID': '33278850', 'OWN': 'NLM', 'STAT': 'Publisher', 'LR': '20201205', 'IS': '1600-6143 (Electronic) 1600-6135 (Linking)', 'DP': '2020 Dec 5', 'TI': 'Incidence and outcome of SARS-CoV-2 infection on solid organ transplantation recipients: A nationwide population-based study.', 'LID': '10.1111/ajt.16428 [doi]', 'AB': 'Since February 21 2020, when the Italian National Institute of Health (Istituto Superiore di Sanita-ISS) reported the first autochthonous case of infection, a dedicated surveillance system for SARS-CoV-2 positive (COVID+) cases has been created in Italy. These data were cross-referenced with those inside the Information Transplant System in order to assess the cumulative incidence (CI) and the outcome of SARS-COV-2 infection in solid organ transplant recipients (SOTRs) which is assumed to be most at risk. We compared our results with those of COVID+ non transplanted patients (Non-SOTRs) with followup through September 30, 2020. The CI of SARS-CoV-2 infection in SOTRs was 1.02%, higher than in COVID+ Non-SOTRs (0.4%, p<0.05) with a greater risk in the Lombardy region (2.89%). The CI by kind of organ transplant was higher for heart [CI 1.57%, Incidence Rate Ratio (IRR) 1.36] and lower for liver [CI 0.63%, IRR 0.54]. The 60dayCI of mortality was 30.6%, twice as much that of COVID+ Non-SOTRs (15.4%) with a 60day gender&age adjusted odds ratio (adjusted-OR) of 3.83 for COVID+ SOTRs [95%CI (3.03-4.85)]. The lowest 60day adjusted-OR was observed in liver SOTRs [OR 0.46, 95%CI (0.25-0.86)]. More detailed studies on disease management and evolution will be necessary in these patients at greater risk of COVID-19.', 'CI': ['This article is protected by copyright. All rights reserved.'], 'FAU': ['Trapani, Silvia', 'Masiero, Lucia', 'Puoti, Francesca', 'Rota, Maria Cristina', 'Del Manso, Martina', 'Lombardini, Letizia', 'Riccardo, Flavia', 'Amoroso, Antonio', 'Pezzotti, Patrizio', 'Antonio Grossi, Paolo', 'Brusaferro, Silvio', 'Cardillo, Massimo'], 'AU': ['Trapani S', 'Masiero L', 'Puoti F', 'Rota MC', 'Del Manso M', 'Lombardini L', 'Riccardo F', 'Amoroso A', 'Pezzotti P', 'Antonio Grossi P', 'Brusaferro S', 'Cardillo M'], 'AUID': ['ORCID: https://orcid.org/0000-0002-8854-7144', 'ORCID: https://orcid.org/0000-0003-2883-5061'], 'AD': ['Italian National Transplant Center, Istituto Superiore di Sanita, Rome, Italy.', 'Italian National Transplant Center, Istituto Superiore di Sanita, Rome, Italy.', 'Italian National Transplant Center, Istituto Superiore di Sanita, Rome, Italy.', 'Department of Infectious Disease, Istituto Superiore di Sanita, Rome, Italy.', 'Department of Infectious Disease, Istituto Superiore di Sanita, Rome, Italy.', 'Italian National Transplant Center, Istituto Superiore di Sanita, Rome, Italy.', 'Department of Infectious Disease, Istituto Superiore di Sanita, Rome, Italy.', 'Department of Medical Sciences, University of Turin and University Hospital \"Citta della Salute e della Scienza\" of Turin, Italy.', 'Department of Infectious Disease, Istituto Superiore di Sanita, Rome, Italy.', 'University of Insubria and ASST-Sette Laghi, Varese, Italy.', 'Office of the President, Istituto Superiore di Sanita, Rome, Italy.', 'Italian National Transplant Center, Istituto Superiore di Sanita, Rome, Italy.'], 'LA': ['eng'], 'PT': ['Journal Article'], 'DEP': '20201205', 'PL': 'United States', 'TA': 'Am J Transplant', 'JT': 'American journal of transplantation : official journal of the American Society of Transplantation and the American Society of Transplant Surgeons', 'JID': '100968638', 'SB': 'IM', 'EDAT': '2020/12/06 06:00', 'MHDA': '2020/12/06 06:00', 'CRDT': ['2020/12/05 20:16'], 'PHST': ['2020/12/05 20:16 [entrez]', '2020/12/06 06:00 [pubmed]', '2020/12/06 06:00 [medline]'], 'AID': ['10.1111/ajt.16428 [doi]'], 'PST': 'aheadofprint', 'SO': 'Am J Transplant. 2020 Dec 5. doi: 10.1111/ajt.16428.'}, {'PMID': '33278758', 'OWN': 'NLM', 'STAT': 'Publisher', 'LR': '20201205', 'IS': '1532-3064 (Electronic) 0954-6111 (Linking)', 'VI': '176', 'DP': '2020 Nov 30', 'TI': 'Clinical status and lung function 10 weeks after severe SARS-CoV-2 infection.', 'PG': '106276', 'LID': 'S0954-6111(20)30416-9 [pii] 10.1016/j.rmed.2020.106276 [doi]', 'AB': 'INTRODUCTION: Since studies about clinical status after COVID-19 are scarce, we conducted a cross sectional study with assessment of residual symptoms, lung function and chest CT. MATERIALS AND METHODS: During an outpatient follow-up visit, chest CT, pulmonary function and COVID-19 related symptoms were assessed approximately 10 weeks after diagnosis. Demographics, baseline (time of diagnosis) CT score and blood results were collected from patient files. Association between lung function and clinical characteristics (baseline), blood markers (baseline), chest CT (baseline and follow-up) and symptom score (followup) was analysed. Mann-Whitney U tests and Chi squared tests were used for statistical comparison between subgroups with and without restriction. RESULTS AND DISCUSSION: Two hundred-twenty subjects were evaluated at a median follow-up of 74+/-12 (SD) days. Median symptom and median CT score at follow-up were 1(IQR=0- 2) and 2(IQR=0-6) respectively. Forty-six percent of patients had normal lung function, while TLC and TLCO below the lower limit of normal were observed in 38% and 22% of subjects respectively. This restrictive pulmonary impairment was associated with length of hospital stay (8 vs 6 days; p=0.003), admission to the intensive care unit (27% vs 13%;p=0.009), and invasive mechanical ventilation (10% vs 0.7%;p=0.001), but not with symptom score or CT score at baseline and follow-up. CONCLUSIONS: Fifty-four percent of COVID-19 survivors had abnormal lung function 10 weeks after diagnosis. Restriction was the most prevalent pulmonary function, with the more critically ill patients being more prone to this condition. Yet, restriction could not be linked with abnormal imaging results or residual symptoms.', 'CI': ['Copyright (c) 2020. Published by Elsevier Ltd.'], 'FAU': ['Smet, Jelle', 'Stylemans, Dimitri', 'Hanon, Shane', 'Verbanck, Sylvia', 'Vanderhelst, Eef', 'Ilsen, Bart'], 'AU': ['Smet J', 'Stylemans D', 'Hanon S', 'Verbanck S', 'Vanderhelst E', 'Ilsen B'], 'AD': ['Respiratory Division, University Hospital UZ Brussel, Vrije Universiteit Brussel, Laarbeeklaan 101, 1090, Brussels, Belgium. Electronic address: jelle.smet@uzbrussel.be.', 'Respiratory Division, University Hospital UZ Brussel, Vrije Universiteit Brussel, Laarbeeklaan 101, 1090, Brussels, Belgium.', 'Respiratory Division, University Hospital UZ Brussel, Vrije Universiteit Brussel, Laarbeeklaan 101, 1090, Brussels, Belgium.', 'Respiratory Division, University Hospital UZ Brussel, Vrije Universiteit Brussel, Laarbeeklaan 101, 1090, Brussels, Belgium.', 'Respiratory Division, University Hospital UZ Brussel, Vrije Universiteit Brussel, Laarbeeklaan 101, 1090, Brussels, Belgium.', 'Department of Radiology, University Hospital UZ Brussel, Vrije Universiteit Brussel, Laarbeeklaan 101, 1090, Brussels, Belgium.'], 'LA': ['eng'], 'PT': ['Journal Article'], 'DEP': '20201130', 'PL': 'England', 'TA': 'Respir Med', 'JT': 'Respiratory medicine', 'JID': '8908438', 'SB': 'IM', 'EDAT': '2020/12/06 06:00', 'MHDA': '2020/12/06 06:00', 'CRDT': ['2020/12/05 20:12'], 'PHST': ['2020/09/27 00:00 [received]', '2020/11/26 00:00 [revised]', '2020/11/27 00:00 [accepted]', '2020/12/05 20:12 [entrez]', '2020/12/06 06:00 [pubmed]', '2020/12/06 06:00 [medline]'], 'AID': ['S0954-6111(20)30416-9 [pii]', '10.1016/j.rmed.2020.106276 [doi]'], 'PST': 'aheadofprint', 'SO': 'Respir Med. 2020 Nov 30;176:106276. doi: 10.1016/j.rmed.2020.106276.'}, {'PMID': '33278747', 'OWN': 'NLM', 'STAT': 'Publisher', 'LR': '20201205', 'IS': '1878-1705 (Electronic) 1567-5769 (Linking)', 'VI': '90', 'DP': '2020 Nov 26', 'TI': 'Pentoxifylline decreases serum LDH levels and increases lymphocyte count in COVID-19 patients: Results from an external pilot study.', 'PG': '107209', 'LID': 'S1567-5769(20)33676-6 [pii] 10.1016/j.intimp.2020.107209 [doi]', 'AB': \"We have previously hypothesized that pentoxifylline could be beneficial for the treatment of COVID-19 given its potential to restore the immune response equilibrium, reduce the impact of the disease on the endothelium and alveolar epithelial cells, and improve the circulatory function.Serum lactate dehydrogenase (LDH) and lymphocyte count are accessible biomarkers that correlate with the severity of COVID-19, the need for hospitalization, and mortality, reflecting the host immune response's contribution to the seriousness of SARS-CoV-2 infection. We carried out this external pilot study on 38 patients with moderate and severe COVID-19 to test the effect pentoxifylline on parameters such as LDH, lymphocyte count, days of hospitalization, mortality, and proportion of patients requiring intubation. Twenty-six patients were randomized to receive 400 mg of pentoxifylline t.i.d. plus standard therapy (pentoxifylline group), while the rest received the standard treatment (control group). Linear regression models were built for statistically significant parameters. Pentoxifylline treatment was associated with a 64.25% increase (CI95% 11.83, 116.68) in lymphocyte count and a 29.61% decrease (CI95% 15.11, 44.10) in serum LDH. Although a trend towards reduced days of hospitalization, mortality, and proportion of patients requiring intubation was observed, no statistically significant difference was found for these parameters. Our findings open the possibility of pentoxifylline being repositioned as a drug for COVID-19 treatment with the advantages of a proven safety profile, availability, and no risk of immunosuppression; however, this evidence needs to be confirmed in a pragmatic randomized controlled trial.\", 'CI': ['Copyright (c) 2020 Elsevier B.V. All rights reserved.'], 'FAU': ['Maldonado, Valente', 'Hernandez-Ramirez, Claudia', 'Oliva-Perez, Eniel Alonso', 'Sanchez-Martinez, Cesar Omar', 'Pimentel-Gonzalez, Jorge Fabian', 'Molina-Sanchez, Jose Raul', 'Jimenez-Villalba, Yeimmy Zuyenn', 'Chavez-Alderete, Jaime', 'Loza-Mejia, Marco A'], 'AU': ['Maldonado V', 'Hernandez-Ramirez C', 'Oliva-Perez EA', 'Sanchez-Martinez CO', 'Pimentel-Gonzalez JF', 'Molina-Sanchez JR', 'Jimenez-Villalba YZ', 'Chavez-Alderete J', 'Loza-Mejia MA'], 'AD': ['Faculty of Chemical Sciences, Universidad La Salle-Mexico, Cuauhtemoc, Mexico City 06140, Mexico; Department of Allergy and Clinical Immunology Internal Medicine, General Hospital of Zone 27 Mexican Institute of Social Security, Lerdo 311, Nonoalco Tlatelolco, Cuauhtemoc, Mexico City 6390, Mexico. Electronic address: valentemaldonado@lasallistas.org.mx.', 'Department of Allergy and Clinical Immunology Internal Medicine, General Hospital of Zone 27 Mexican Institute of Social Security, Lerdo 311, Nonoalco Tlatelolco, Cuauhtemoc, Mexico City 6390, Mexico.', 'Department of Internal Medicine, General Hospital of Zone 27 Mexican Institute of Social Security, Nonoalco Tlatelolco, Cuauhtemoc, Mexico City 6390, Mexico.', 'Department of Internal Medicine, General Hospital of Zone 27 Mexican Institute of Social Security, Nonoalco Tlatelolco, Cuauhtemoc, Mexico City 6390, Mexico.', 'Department of Internal Medicine, General Hospital of Zone 27 Mexican Institute of Social Security, Nonoalco Tlatelolco, Cuauhtemoc, Mexico City 6390, Mexico.', 'Department of Internal Medicine, General Hospital of Zone 27 Mexican Institute of Social Security, Nonoalco Tlatelolco, Cuauhtemoc, Mexico City 6390, Mexico.', 'Department of Internal Medicine, General Hospital of Zone 27 Mexican Institute of Social Security, Nonoalco Tlatelolco, Cuauhtemoc, Mexico City 6390, Mexico.', 'Department of Bronchial Hyperreactivity, National Institute of Respiratory Diseases Ismael Cosio Villegas, Tlalpan, Mexico City 14080, Mexico.', 'Faculty of Chemical Sciences, Universidad La Salle-Mexico, Cuauhtemoc, Mexico City 06140, Mexico.'], 'LA': ['eng'], 'PT': ['Journal Article'], 'DEP': '20201126', 'PL': 'Netherlands', 'TA': 'Int Immunopharmacol', 'JT': 'International immunopharmacology', 'JID': '100965259', 'SB': 'IM', 'OTO': ['NOTNLM'], 'OT': ['COVID-19', 'Immunomodulatory treatment', 'Lactate dehydrogenase', 'Lymphocytes', 'Pentoxifylline'], 'EDAT': '2020/12/06 06:00', 'MHDA': '2020/12/06 06:00', 'CRDT': ['2020/12/05 20:12'], 'PHST': ['2020/09/20 00:00 [received]', '2020/11/11 00:00 [revised]', '2020/11/11 00:00 [accepted]', '2020/12/05 20:12 [entrez]', '2020/12/06 06:00 [pubmed]', '2020/12/06 06:00 [medline]'], 'AID': ['S1567-5769(20)33676-6 [pii]', '10.1016/j.intimp.2020.107209 [doi]'], 'PST': 'aheadofprint', 'SO': 'Int Immunopharmacol. 2020 Nov 26;90:107209. doi: 10.1016/j.intimp.2020.107209.'}, {'PMID': '33278737', 'OWN': 'NLM', 'STAT': 'Publisher', 'LR': '20201205', 'IS': '1096-0341 (Electronic) 0042-6822 (Linking)', 'VI': '553', 'DP': '2020 Nov 18', 'TI': 'Analytical and clinical comparison of Viasure (CerTest Biotec) and 2019-nCoV CDC (IDT) RT-qPCR kits for SARS-CoV2 diagnosis.', 'PG': '154-156', 'LID': 'S0042-6822(20)30218-X [pii] 10.1016/j.virol.2020.10.010 [doi]', 'AB': 'BACKGROUND: Several RT-qPCR kits are available for SARS-CoV-2 diagnosis, some of them with Emergency Use Authorization (EUA) by FDA, but most of them lacking of proper evaluation studies due to covid19 emergency. OBJECTIVE: We evaluated Viasure RT-qPCR kit (CerTest Biotec, Spain) for SARS-CoV-2 diagnosis using FDA EUA 2019-nCoV CDC kit (IDT, USA) as a gold standard. RESULTS: Although we found the lack of RNA quality control probe as the main limitation for the Viasure kit, the sensitivity was 91.9% and the specificity was 100%. The limit of detection (LOD) was 2000 copies/mL and 1000 copies/mL for Viasure and IDT kits, respectively. CONCLUSIONS: Viasure RT-qPCR kit is a reliable tool for SARS-CoV-2 diagnosis but improvement of an alternative RT-qPCR reaction for RNA extraction quality control as RNaseP is recommended.', 'CI': ['Copyright (c) 2020 Elsevier Inc. All rights reserved.'], 'FAU': ['Freire-Paspuel, Byron', 'Vega-Marino, Patricio', 'Velez, Alberto', 'Cruz, Marilyn', 'Perez, Franklin', 'Garcia-Bereguiain, Miguel Angel'], 'AU': ['Freire-Paspuel B', 'Vega-Marino P', 'Velez A', 'Cruz M', 'Perez F', 'Garcia-Bereguiain MA'], 'AD': ['One Health Research Group, Universidad de Las Americas, Quito, Ecuador.', 'Agencia de Regulacion y Control de La Bioseguridad y Cuarentena para Galapagos, Puerto Ayora, Ecuador.', 'Agencia de Regulacion y Control de La Bioseguridad y Cuarentena para Galapagos, Puerto Ayora, Ecuador.', 'Agencia de Regulacion y Control de La Bioseguridad y Cuarentena para Galapagos, Puerto Ayora, Ecuador.', 'OneLabt, Santa Elena, Ecuador.', 'One Health Research Group, Universidad de Las Americas, Quito, Ecuador. Electronic address: magbereguiain@gmail.com.'], 'LA': ['eng'], 'PT': ['Journal Article'], 'DEP': '20201118', 'PL': 'United States', 'TA': 'Virology', 'JT': 'Virology', 'JID': '0110674', 'SB': 'IM', 'EDAT': '2020/12/06 06:00', 'MHDA': '2020/12/06 06:00', 'CRDT': ['2020/12/05 20:12'], 'PHST': ['2020/07/18 00:00 [received]', '2020/10/06 00:00 [revised]', '2020/10/28 00:00 [accepted]', '2020/12/05 20:12 [entrez]', '2020/12/06 06:00 [pubmed]', '2020/12/06 06:00 [medline]'], 'AID': ['S0042-6822(20)30218-X [pii]', '10.1016/j.virol.2020.10.010 [doi]'], 'PST': 'aheadofprint', 'SO': 'Virology. 2020 Nov 18;553:154-156. doi: 10.1016/j.virol.2020.10.010.'}, {'PMID': '33278734', 'OWN': 'NLM', 'STAT': 'Publisher', 'LR': '20201205', 'IS': '1873-2542 (Electronic) 0378-1135 (Linking)', 'VI': '252', 'DP': '2020 Nov 24', 'TI': 'SARS-CoV-2 replicates in respiratory ex vivo organ cultures of domestic ruminant species.', 'PG': '108933', 'LID': 'S0378-1135(20)31071-3 [pii] 10.1016/j.vetmic.2020.108933 [doi]', 'AB': 'There is strong evidence that severe acute respiratory syndrome 2 virus (SARS-CoV-2), the causative agent of the coronavirus disease 2019 (COVID-19) pandemic, originated from an animal reservoir. However, the exact mechanisms of emergence, the host species involved, and the risk to domestic and agricultural animals are largely unknown. Some domestic animal species, including cats, ferrets, and minks, have been demonstrated to be susceptible to SARS-CoV-2 infection, while others, such as pigs and chickens, are not. Importantly, the susceptibility of ruminants to SARS-CoV-2 is unknown, even though they often live in close proximity to humans. We investigated the replication and tissue tropism of two different SARS-CoV-2 isolates in the respiratory tract of three farm animal species - cattle, sheep, and pigs - using respiratory ex vivo organ cultures (EVOCs). We demonstrate that the respiratory tissues of cattle and sheep, but not of pigs, sustain viral replication in vitro of both isolates and that SARS-CoV-2 is associated to ACE2-expressing cells of the respiratory tract of both ruminant species. Intriguingly, a SARS-CoV-2 isolate containing an amino acid substitution at site 614 of the spike protein (mutation D614G) replicated at higher magnitude in ex vivo tissues of both ruminant species, supporting previous results obtained using human cells. These results suggest that additional in vivo experiments involving several ruminant species are warranted to determine their potential role in the epidemiology of this virus.', 'CI': ['Copyright (c) 2020 The Author(s). Published by Elsevier B.V. All rights reserved.'], 'FAU': ['Di Teodoro, Giovanni', 'Valleriani, Fabrizia', 'Puglia, Ilaria', 'Monaco, Federica', 'Di Pancrazio, Chiara', 'Luciani, Mirella', 'Krasteva, Ivanka', 'Petrini, Antonio', 'Marcacci, Maurilia', \"D'Alterio, Nicola\", 'Curini, Valentina', 'Iorio, Mariangela', 'Migliorati, Giacomo', 'Di Domenico, Marco', 'Morelli, Daniela', 'Calistri, Paolo', 'Savini, Giovanni', 'Decaro, Nicola', 'Holmes, Edward C', 'Lorusso, Alessio'], 'AU': ['Di Teodoro G', 'Valleriani F', 'Puglia I', 'Monaco F', 'Di Pancrazio C', 'Luciani M', 'Krasteva I', 'Petrini A', 'Marcacci M', \"D'Alterio N\", 'Curini V', 'Iorio M', 'Migliorati G', 'Di Domenico M', 'Morelli D', 'Calistri P', 'Savini G', 'Decaro N', 'Holmes EC', 'Lorusso A'], 'AD': [\"Istituto Zooprofilattico Sperimentale dell' Abruzzo e Molise, Teramo, Italy.\", \"Istituto Zooprofilattico Sperimentale dell' Abruzzo e Molise, Teramo, Italy.\", \"Istituto Zooprofilattico Sperimentale dell' Abruzzo e Molise, Teramo, Italy.\", \"Istituto Zooprofilattico Sperimentale dell' Abruzzo e Molise, Teramo, Italy.\", \"Istituto Zooprofilattico Sperimentale dell' Abruzzo e Molise, Teramo, Italy.\", \"Istituto Zooprofilattico Sperimentale dell' Abruzzo e Molise, Teramo, Italy.\", \"Istituto Zooprofilattico Sperimentale dell' Abruzzo e Molise, Teramo, Italy.\", \"Istituto Zooprofilattico Sperimentale dell' Abruzzo e Molise, Teramo, Italy.\", \"Istituto Zooprofilattico Sperimentale dell' Abruzzo e Molise, Teramo, Italy; Department of Veterinary Medicine, University of Bari, Valenzano, Bari, Italy.\", \"Istituto Zooprofilattico Sperimentale dell' Abruzzo e Molise, Teramo, Italy.\", \"Istituto Zooprofilattico Sperimentale dell' Abruzzo e Molise, Teramo, Italy.\", \"Istituto Zooprofilattico Sperimentale dell' Abruzzo e Molise, Teramo, Italy.\", \"Istituto Zooprofilattico Sperimentale dell' Abruzzo e Molise, Teramo, Italy.\", \"Istituto Zooprofilattico Sperimentale dell' Abruzzo e Molise, Teramo, Italy.\", \"Istituto Zooprofilattico Sperimentale dell' Abruzzo e Molise, Teramo, Italy.\", \"Istituto Zooprofilattico Sperimentale dell' Abruzzo e Molise, Teramo, Italy.\", \"Istituto Zooprofilattico Sperimentale dell' Abruzzo e Molise, Teramo, Italy.\", 'Department of Veterinary Medicine, University of Bari, Valenzano, Bari, Italy.', 'Marie Bashir Institute for Infectious Diseases and Biosecurity, School of Life and Environmental Sciences and School of Medical Sciences, The University of Sydney, Sydney, NSW 2006, Australia.', \"Istituto Zooprofilattico Sperimentale dell' Abruzzo e Molise, Teramo, Italy. Electronic address: a.lorusso@izs.it.\"], 'LA': ['eng'], 'PT': ['Journal Article'], 'DEP': '20201124', 'PL': 'Netherlands', 'TA': 'Vet Microbiol', 'JT': 'Veterinary microbiology', 'JID': '7705469', 'SB': 'IM', 'OTO': ['NOTNLM'], 'OT': ['ACE2', 'Cattle', 'D614G', 'Pigs', 'Replication', 'Respiratory ex vivo organ cultures', 'SARS-CoV-2', 'Sheep', 'Tropism'], 'EDAT': '2020/12/06 06:00', 'MHDA': '2020/12/06 06:00', 'CRDT': ['2020/12/05 20:12'], 'PHST': ['2020/09/17 00:00 [received]', '2020/11/15 00:00 [accepted]', '2020/12/05 20:12 [entrez]', '2020/12/06 06:00 [pubmed]', '2020/12/06 06:00 [medline]'], 'AID': ['S0378-1135(20)31071-3 [pii]', '10.1016/j.vetmic.2020.108933 [doi]'], 'PST': 'aheadofprint', 'SO': 'Vet Microbiol. 2020 Nov 24;252:108933. doi: 10.1016/j.vetmic.2020.108933.'}, {'PMID': '33278717', 'OWN': 'NLM', 'STAT': 'Publisher', 'LR': '20201205', 'IS': '1873-6327 (Electronic) 0306-4603 (Linking)', 'VI': '114', 'DP': '2020 Nov 10', 'TI': 'Implementation of a cluster randomized controlled trial: Identifying student peer leaders to lead E-cigarette interventions.', 'PG': '106726', 'LID': 'S0306-4603(20)30856-X [pii] 10.1016/j.addbeh.2020.106726 [doi]', 'AB': 'E-cigarette use has been increasing among middle school students. Intervention programs to prevent e-cigarette initiation administered by authority figures are met with more resistance from youth compared to peer-led programs. Therefore, this study aimed to assess the feasibility, acceptability, and implementation process of using social network analysis (SNA) to identify student peer leaders in schools and train them to deliver e-cigarette prevention programming to their peers. Nine schools were recruited to participate in the study during the 2019-2020 school year. Schools were assigned to one of three conditions: (1) expert; (2) peer-random (selected peer-leaders would teach to random students); and (3) peer-fixed (selected peer-leaders would teach to assigned students based on nominations). Study participation varied by day due to school attendance, with 686 participants at baseline and 608 at posttest. Almost all students who did not complete the study resulted from the interruption of schools being closed due to COVID-19. Implementation issues fell into three categories: (1) scheduling, (2) day-of logistics, and (3) student group dynamics. Overall, the results showed positive satisfaction among teachers, who unanimously found the program appropriate for the grade-level and that peer-leaders worked well within their groups. Peer-led students-both random and assigned-reported having more fun and willing to tell friends to try the program compared to expert-led students. This study demonstrated the feasibility of implementing a peer-led e-cigarette prevention program for 6th grade students, using SNA to provide intervention rigidity and validity.', 'CI': ['Copyright (c) 2020 Elsevier Ltd. All rights reserved.'], 'FAU': ['Chu, Kar-Hai', 'Sidani, Jaime', 'Matheny, Sara', 'Rothenberger, Scott D', 'Miller, Elizabeth', 'Valente, Thomas', 'Robertson, Linda'], 'AU': ['Chu KH', 'Sidani J', 'Matheny S', 'Rothenberger SD', 'Miller E', 'Valente T', 'Robertson L'], 'AD': ['University of Pittsburgh, United States. Electronic address: chuk@pitt.edu.', 'University of Pittsburgh, United States.', 'University of Pittsburgh, United States.', 'University of Pittsburgh, United States.', \"UPMC Children's Hospital, United States.\", 'University of Southern California, United States.', 'UPMC Hillman Cancer Center, United States.'], 'LA': ['eng'], 'PT': ['Journal Article'], 'DEP': '20201110', 'PL': 'England', 'TA': 'Addict Behav', 'JT': 'Addictive behaviors', 'JID': '7603486', 'SB': 'IM', 'OTO': ['NOTNLM'], 'OT': ['Adolescent', 'E-cigarette', 'Intervention', 'Intervention development', 'Peer-led', 'Social network analysis'], 'EDAT': '2020/12/06 06:00', 'MHDA': '2020/12/06 06:00', 'CRDT': ['2020/12/05 20:11'], 'PHST': ['2020/06/30 00:00 [received]', '2020/09/26 00:00 [revised]', '2020/11/01 00:00 [accepted]', '2020/12/05 20:11 [entrez]', '2020/12/06 06:00 [pubmed]', '2020/12/06 06:00 [medline]'], 'AID': ['S0306-4603(20)30856-X [pii]', '10.1016/j.addbeh.2020.106726 [doi]'], 'PST': 'aheadofprint', 'SO': 'Addict Behav. 2020 Nov 10;114:106726. doi: 10.1016/j.addbeh.2020.106726.'}, {'PMID': '33278644', 'OWN': 'NLM', 'STAT': 'Publisher', 'LR': '20201205', 'IS': '2213-3348 (Electronic)', 'DP': '2020 Dec 2', 'TI': 'Systematic Duplex Ultrasound Screening in Conventional Units for COVID-19 Patients with Follow-up of 5 Days.', 'LID': 'S2213-333X(20)30647-8 [pii] 10.1016/j.jvsv.2020.11.019 [doi]', 'AB': 'OBJECTIVE: COVID-19 patients may develop coagulopathy which is associated with poor prognosis and high risk of thrombosis. The objective of this work was to evaluate the prevalence of deep venous thrombosis of lower limbs (DVT) through ultrasonography in patients infected with COVID-19 admitted to hospital in conventional units with 5 days monitoring. The secondary objective was to determine if D-dimer levels body mass index (BMI) and C-reactive ; protein (CRP) were associated with DVT. MATERIALS AND METHODS: 72 patients with a mean age of 65+/-12.3 years infected with COVID-19 were admitted to three conventional units at our institution ,28 patients were women. A COVID-19 diagnosis was made by transcriptase polymerase chain reaction by means of nasopharyngeal swab or by chest computer tomography (CT) without iodine contrast media. Demographics ,co-morbidities characteristics and laboratory parameters were collected . A preventive anticoagulation treatment was established on admission with low molecular weight heparin (LMWH) . A complete venous duplex ultrasound (DU) test of lower limbs was performed on Day (D) 0 and D5 .A pulmonary CT angiograms with iodine contrast media (CTPA) was required when was ; suspected pulmonary embolism (PE). RESULTS: On D0 the DU showed acute DVT in seven patients (9.75%).A CTPA was performed in 12 patients (16.65%) ,3 of whom with an acute PE (25 %). On D0 acute DVT was not significantly associated with CRP (mean 101+/-98.6 in the group without DVT versus 67.6+/-58.4 mg/l p=0.43) or BMI ( 27.7 +/-5.04 versus 28.1 +/- 2.65 Kg/m2 p=0.54 ).However we found a significant association between acute DVT and D-dimer levels (1536+/-2347 versus 9652 +/-10205 ng/ml p <0.01).Among the patients included on D0 only 32 had a DU on D5.Forty of them (55.55%) were not examined for the following reasons : 7 were previously diagnosed with VTE on D0 (9.7%) and therefore had been excluded on D5 8 (11%) had been transferred to the intensive care unit (ICU) 10 (14%) discharged from the hospital 5 (7%) died and 10 ( 13.9%) due to technical issues. On D5 5 patients had acute DVT (15.6%) in addition to those found on D0 3 were distal and 2 proximal despite preventive anticoagulation with LMWH. CONCLUSIONS: Hospitalized non ICU patients with COVID-19 pneumonia have a high frequency of venous thrombotic events justifying screening with duplex ultrasound.', 'CI': ['Copyright (c) 2020 Society for Vascular Surgery. Published by Elsevier Inc. All', 'rights reserved.'], 'FAU': ['Hamade, Amer', 'Jambert, Lucas', 'Tousch, Jonathan', 'Talbot, Marjolaine', 'Dervieux, Benjamin', 'Nazer, Tarek El', 'Bensalah, Naouel', 'Michel, Pierre', 'Lehn-Hogg, Michele', 'Buschenrieder, Nathalie', 'Obringer, Golnaz', 'Jacquemin, Laurent', 'Hinschberger, Olivier', 'Stephan, Dominique', 'Woehl, Bastien'], 'AU': ['Hamade A', 'Jambert L', 'Tousch J', 'Talbot M', 'Dervieux B', 'Nazer TE', 'Bensalah N', 'Michel P', 'Lehn-Hogg M', 'Buschenrieder N', 'Obringer G', 'Jacquemin L', 'Hinschberger O', 'Stephan D', 'Woehl B'], 'AD': ['Service de Medecine Vasculaire , GHRMSA ,Hopital Emile Muller, Mulhouse,France. Electronic address: hamadea@ghrmsa.fr.', 'Service de Medecine Vasculaire , GHRMSA ,Hopital Emile Muller, Mulhouse,France.', 'Service de Medecine Vasculaire , GHRMSA ,Hopital Emile Muller, Mulhouse,France.', 'Service de Medecine Vasculaire , GHRMSA ,Hopital Emile Muller, Mulhouse,France.', 'Service de Medecine Interne, GHRMSA ,Hopital Emile Muller, Mulhouse,France.', 'Service de Cardiologie, GHRMSA ,Hopital Emile Muller, Mulhouse,France.', 'Service de Medecine Vasculaire , GHRMSA ,Hopital Emile Muller, Mulhouse,France.', 'Service de Medecine Vasculaire , GHRMSA ,Hopital Emile Muller, Mulhouse,France.', 'Service de Medecine Vasculaire , GHRMSA ,Hopital Emile Muller, Mulhouse,France.', 'Service de Medecine Vasculaire , GHRMSA ,Hopital Emile Muller, Mulhouse,France.', 'Service de Medecine Vasculaire , GHRMSA ,Hopital Emile Muller, Mulhouse,France.', 'Service de Cardiologie, GHRMSA ,Hopital Emile Muller, Mulhouse,France.', 'Service de Medecine Interne, GHRMSA ,Hopital Emile Muller, Mulhouse,France.', 'Service de Maladies Vasculaires ,Hopitaux Universitaires de Strasbourg, Strasbourg, France.', 'Service de Medecine Vasculaire , GHRMSA ,Hopital Emile Muller, Mulhouse,France.'], 'LA': ['eng'], 'PT': ['Journal Article'], 'DEP': '20201202', 'PL': 'United States', 'TA': 'J Vasc Surg Venous Lymphat Disord', 'JT': 'Journal of vascular surgery. Venous and lymphatic disorders', 'JID': '101607771', 'SB': 'IM', 'OTO': ['NOTNLM'], 'OT': ['COVID-19', 'Duplex ultrasound', 'deep venous thrombosis'], 'EDAT': '2020/12/06 06:00', 'MHDA': '2020/12/06 06:00', 'CRDT': ['2020/12/05 20:10'], 'PHST': ['2020/06/17 00:00 [received]', '2020/11/06 00:00 [accepted]', '2020/12/05 20:10 [entrez]', '2020/12/06 06:00 [pubmed]', '2020/12/06 06:00 [medline]'], 'AID': ['S2213-333X(20)30647-8 [pii]', '10.1016/j.jvsv.2020.11.019 [doi]'], 'PST': 'aheadofprint', 'SO': 'J Vasc Surg Venous Lymphat Disord. 2020 Dec 2. pii: S2213-333X(20)30647-8. doi: 10.1016/j.jvsv.2020.11.019.'}, {'PMID': '33278625', 'OWN': 'NLM', 'STAT': 'Publisher', 'LR': '20201205', 'IS': '1878-3511 (Electronic) 1201-9712 (Linking)', 'DP': '2020 Dec 2', 'TI': 'A five day course of ivermectin for the treatment of COVID-19 may reduce the duration of illness.', 'LID': 'S1201-9712(20)32506-6 [pii] 10.1016/j.ijid.2020.11.191 [doi]', 'AB': 'Ivermectin, an FDA-approved anti-parasitic agent, was found in vitro to inhibit SARS-CoV-2 replication. To determine the rapidity of viral clearance and safety of ivermectin among adult SARS-CoV-2 patients we conducted a randomized, double-blind, placebo-controlled trial of oral ivermectin alone (12 mg once daily for 5 days) or in combination with doxycycline (12 mg ivermectin single dose and 200 mg stat doxycycline day-1 followed by 100 mg 12hrly for next 4 days) compared with placebo among 72 hospitalized patients in Dhaka, Bangladesh. Clinical symptoms of fever, cough and sore throat were comparable among the three treatment arms. Virological clearance was earlier in the 5-day ivermectin treatment arm versus the placebo group (9.7 days vs. 12.7 days; P = 0.02); but not with the ivermectin + doxycycline arm (11.5 days; P = 0.27). There were no severe adverse drug events recorded in the study. A 5-day course of ivermectin was found to be safe and effective in treating mild COVID-19 adult patients. Larger trials will be needed to confirm these preliminary findings.', 'CI': ['Copyright (c) 2020. Published by Elsevier Ltd.'], 'FAU': ['Ahmed, Sabeena', 'Karim, Mohammad Mahbubul', 'Ross, Allen G', 'Hossain, Mohammad Sharif', 'Clemens, John D', 'Sumiya, Mariya Kibtiya', 'Phru, Ching Swe', 'Rahman, Mustafizur', 'Zaman, Khalequ', 'Somani, Jyoti', 'Yasmin, Rubina', 'Hasnat, Mohammad Abul', 'Kabir, Ahmedul', 'Aziz, Asma Binte', 'Khan, Wasif Ali'], 'AU': ['Ahmed S', 'Karim MM', 'Ross AG', 'Hossain MS', 'Clemens JD', 'Sumiya MK', 'Phru CS', 'Rahman M', 'Zaman K', 'Somani J', 'Yasmin R', 'Hasnat MA', 'Kabir A', 'Aziz AB', 'Khan WA'], 'AD': ['International Centre for Diarrhoeal Disease Research, Bangladesh (icddr,b), Dhaka, Bangladesh.', 'International Centre for Diarrhoeal Disease Research, Bangladesh (icddr,b), Dhaka, Bangladesh.', 'International Centre for Diarrhoeal Disease Research, Bangladesh (icddr,b), Dhaka, Bangladesh.', 'International Centre for Diarrhoeal Disease Research, Bangladesh (icddr,b), Dhaka, Bangladesh.', 'International Centre for Diarrhoeal Disease Research, Bangladesh (icddr,b), Dhaka, Bangladesh.', 'International Centre for Diarrhoeal Disease Research, Bangladesh (icddr,b), Dhaka, Bangladesh.', 'International Centre for Diarrhoeal Disease Research, Bangladesh (icddr,b), Dhaka, Bangladesh.', 'International Centre for Diarrhoeal Disease Research, Bangladesh (icddr,b), Dhaka, Bangladesh.', 'International Centre for Diarrhoeal Disease Research, Bangladesh (icddr,b), Dhaka, Bangladesh.', 'Division of Infectious Diseases, Department of Medicine, National University Hospital, Singapore.', 'Mugda Medical College and Hospital, Dhaka, Bangladesh.', 'Kurmitola General Hospital, Dhaka, Bangladesh.', 'Dhaka Medical College & Hospital, Dhaka, Bangladesh.', 'International Centre for Diarrhoeal Disease Research, Bangladesh (icddr,b), Dhaka, Bangladesh.', 'International Centre for Diarrhoeal Disease Research, Bangladesh (icddr,b), Dhaka, Bangladesh. Electronic address: wakhan@icddrb.org.'], 'LA': ['eng'], 'PT': ['Journal Article'], 'DEP': '20201202', 'PL': 'Canada', 'TA': 'Int J Infect Dis', 'JT': 'International journal of infectious diseases : IJID : official publication of the International Society for Infectious Diseases', 'JID': '9610933', 'SB': 'IM', 'OTO': ['NOTNLM'], 'OT': ['Bangladesh', 'COVID-19, SARS-CoV-2', 'Doxycycline', 'Ivermectin'], 'EDAT': '2020/12/06 06:00', 'MHDA': '2020/12/06 06:00', 'CRDT': ['2020/12/05 20:10'], 'PHST': ['2020/11/24 00:00 [received]', '2020/11/26 00:00 [accepted]', '2020/12/05 20:10 [entrez]', '2020/12/06 06:00 [pubmed]', '2020/12/06 06:00 [medline]'], 'AID': ['S1201-9712(20)32506-6 [pii]', '10.1016/j.ijid.2020.11.191 [doi]'], 'PST': 'aheadofprint', 'SO': 'Int J Infect Dis. 2020 Dec 2. pii: S1201-9712(20)32506-6. doi: 10.1016/j.ijid.2020.11.191.'}, {'PMID': '33278624', 'OWN': 'NLM', 'STAT': 'Publisher', 'LR': '20201205', 'IS': '1878-3511 (Electronic) 1201-9712 (Linking)', 'DP': '2020 Dec 2', 'TI': 'Impact of low serum calcium at hospital admission on SARS-CoV-2 infection outcome.', 'LID': 'S1201-9712(20)32523-6 [pii] 10.1016/j.ijid.2020.11.207 [doi]', 'AB': 'BACKGROUND: Calcium is an essential ion for pathogen survival and virulence and is involved in the regulation of the inflammatory response. Hypocalcemia is a common laboratory finding in critically ill patients. Data regarding levels of calcium in SARS-CoV-2 infection is scarce. Patients with SARS-CoV-2 infection who present with hypocalcemia could have a worse outcome. METHODS: We performed a retrospective analysis of hospitalized patients with SARS-CoV-2 infection and included all patients who had any serum calcium measurement in the first 72 hours since hospital admission. Main objective was to investigate the relation of low serum calcium with adverse outcome, measured by the requirement of high oxygen support - defined as high flow nasal cannula oxygen, non-invasive mechanical ventilation and/or invasive ventilation-, intensive care unit admission or death. RESULTS: A total of 316 patients were included in the study. Median age was 65 years (IQR 55-74), 65% were men. Hypocalcemia within 72 hours since hospital admission was present in 63% of patients. A higher number of patients in the hypocalcemia group required high oxygen support during hospitalization (49% vs 32%; p = 0,01) and were admitted to the ICU (42% vs 26%; p = 0,005). No differences in mortality were observed between groups. CONCLUSIONS: Hypocalcemia is frequent in hospitalized patients with SARS-CoV-2 infection and can identify patients with worse outcome. More studies are needed to understand the role of calcium metabolism in SARS-CoV-2 infection and to address the clinical implications and therapeutic interventions it might have.', 'CI': ['Copyright (c) 2020. Published by Elsevier Ltd.'], 'FAU': ['Torres, Berta', 'Alcubilla, Pau', 'Gonzalez-Cordon, Ana', 'Inciarte, Alexy', 'Chumbita, Mariana', 'Cardozo, Celia', 'Meira, Fernanda', 'Gimenez, Marga', 'de Hollanda, Ana', 'Soriano, Alex'], 'AU': ['Torres B', 'Alcubilla P', 'Gonzalez-Cordon A', 'Inciarte A', 'Chumbita M', 'Cardozo C', 'Meira F', 'Gimenez M', 'de Hollanda A', 'Soriano A'], 'AD': [\"Infectious Diseases, Hospital Clinic, Barcelona, Spain; Institut d'Investigacions Biomediques August Pi i Sunyer (IDIBAPS), Barcelona, Spain. Electronic address: btorres@clinic.cat.\", 'Clinical Pharmacology Department, Hospital Clinic, Barcelona, Spain.', \"Infectious Diseases, Hospital Clinic, Barcelona, Spain; Institut d'Investigacions Biomediques August Pi i Sunyer (IDIBAPS), Barcelona, Spain.\", \"Infectious Diseases, Hospital Clinic, Barcelona, Spain; Institut d'Investigacions Biomediques August Pi i Sunyer (IDIBAPS), Barcelona, Spain.\", 'Infectious Diseases, Hospital Clinic, Barcelona, Spain.', \"Infectious Diseases, Hospital Clinic, Barcelona, Spain; Institut d'Investigacions Biomediques August Pi i Sunyer (IDIBAPS), Barcelona, Spain.\", 'Infectious Diseases, Hospital Clinic, Barcelona, Spain.', 'Endocrinology and Diabetes Unit, IDIBAPS, Hospital Clinic, Barcelona, Spain; Centro de Investigacion Biomedica en Red de Diabetes y Enfermedades Metabolicas Asociadas (CIBERDEM), Spain.', 'Endocrinology and Diabetes Unit, IDIBAPS, Hospital Clinic, Barcelona, Spain; Centro de Investigacion Biomedica en Red de la Fisiopatologia de la Obesidad y Nutricion (CIBER-OBN), Spain.', \"Infectious Diseases, Hospital Clinic, Barcelona, Spain; Institut d'Investigacions Biomediques August Pi i Sunyer (IDIBAPS), Barcelona, Spain. Electronic address: asoriano@clinic.cat.\"], 'CN': ['COVID19 Hospital Clinic Infectious Diseases research group'], 'LA': ['eng'], 'PT': ['Journal Article'], 'DEP': '20201202', 'PL': 'Canada', 'TA': 'Int J Infect Dis', 'JT': 'International journal of infectious diseases : IJID : official publication of the International Society for Infectious Diseases', 'JID': '9610933', 'SB': 'IM', 'OTO': ['NOTNLM'], 'OT': ['COVID-19', 'SARS-CoV-2 infection', 'hypocalcemia', 'outcome'], 'IR': ['Albiach L', 'Aguero D', 'Ambrosioni J', 'Bodro M', 'Blanco JL', 'Mora L', 'Garcia-Alcaide F', 'Garcia-Pouton N', 'Garcia-Vidal C', 'Hernandez-Meneses M', 'Laguno M', 'Leal L', 'Linares L', 'Macaya I', 'Mallolas J', 'Martinez E', 'Martinez-Rebollar M', 'Maria Miro J', 'Mensa J', 'Moreno A', 'Moreno A', 'Moreno-Garcia E', 'Morata L', 'Antonio Martinez J', 'Puerta-Alcalde P', 'Rico V', 'Rojas J', 'Sola M', 'Torres M'], 'FIR': ['Albiach, Laia', 'Aguero, Daiana', 'Ambrosioni, Juan', 'Bodro, Marta', 'Blanco, Jose Luis', 'Mora, Lorena De la', 'Garcia-Alcaide, Felipe', 'Garcia-Pouton, Nicole', 'Garcia-Vidal, Carolina', 'Hernandez-Meneses, Marta', 'Laguno, Montserrat', 'Leal, Lorna', 'Linares, Laura', 'Macaya, Irene', 'Mallolas, Josep', 'Martinez, Esteban', 'Martinez-Rebollar, Maria', 'Maria Miro, Jose', 'Mensa, Jose', 'Moreno, Asuncion', 'Moreno, Antonio', 'Moreno-Garcia, Estela', 'Morata, Laura', 'Antonio Martinez, Jose', 'Puerta-Alcalde, Pedro', 'Rico, Veronica', 'Rojas, John', 'Sola, Montserrat', 'Torres, Manuel'], 'EDAT': '2020/12/06 06:00', 'MHDA': '2020/12/06 06:00', 'CRDT': ['2020/12/05 20:10'], 'PHST': ['2020/08/29 00:00 [received]', '2020/11/19 00:00 [revised]', '2020/11/29 00:00 [accepted]', '2020/12/05 20:10 [entrez]', '2020/12/06 06:00 [pubmed]', '2020/12/06 06:00 [medline]'], 'AID': ['S1201-9712(20)32523-6 [pii]', '10.1016/j.ijid.2020.11.207 [doi]'], 'PST': 'aheadofprint', 'SO': 'Int J Infect Dis. 2020 Dec 2. pii: S1201-9712(20)32523-6. doi: 10.1016/j.ijid.2020.11.207.'}, {'PMID': '33278610', 'OWN': 'NLM', 'STAT': 'Publisher', 'LR': '20201205', 'IS': '1873-0442 (Electronic) 1477-8939 (Linking)', 'DP': '2020 Dec 2', 'TI': 'Spatiotemporal ecological study of COVID-19 mortality in the city of Sao Paulo, Brazil: Shifting of the high mortality risk from areas with the best to those with the worst socio-economic conditions.', 'PG': '101945', 'LID': 'S1477-8939(20)30442-7 [pii] 10.1016/j.tmaid.2020.101945 [doi]', 'AB': 'BACKGROUND: Currently, Brazil is experiencing one of the fastest increasing coronavirus disease (COVID-19) mortality rates worldwide, with a minimum of 158,000 confirmed deaths presently. The city of Sao Paulo is particularly vulnerable because it is the most populated city in Brazil. Thus, this study aimed to analyse COVID-19 mortality in a spatiotemporal context in Sao Paulo, with respect to socio-economic levels. METHOD: We modelled the deaths using spatiotemporal architectures and Poisson probability distributions using a latent Gaussian Bayesian model approach. RESULTS: Both total deaths and confirmed deaths showed similar spatial patterns. Mortality was higher in men and increased with age. The most critical period regarding mortality occurred between the 20(th) and 23(rd) epidemiological weeks, followed by an apparent stabilisation of the epidemiological trend. The risk of death was greater in areas with the worst social conditions during the study period. However, this pattern was not uniform over time, since we identified a shift of high risk from the areas with the best socio-economic conditions to those with the worst conditions. CONCLUSIONS: Our study corroborated the relationship between COVID-19 mortality and socio-economic conditions, revealing the importance of geographic screening in the integration of better actions to face the pandemic.', 'CI': ['Copyright (c) 2020 Elsevier Ltd. All rights reserved.'], 'FAU': ['Bermudi, Patricia Marques Moralejo', 'Lorenz, Camila', 'Aguiar, Breno Souza de', 'Failla, Marcelo Antunes', 'Barrozo, Ligia Vizeu', 'Neto, Francisco Chiaravalloti'], 'AU': ['Bermudi PMM', 'Lorenz C', 'Aguiar BS', 'Failla MA', 'Barrozo LV', 'Neto FC'], 'AD': ['Departamento de Epidemiologia, Faculdade de Saude Publica da Universidade de Sao Paulo, Sao Paulo, SP, Brazil.', 'Departamento de Epidemiologia, Faculdade de Saude Publica da Universidade de Sao Paulo, Sao Paulo, SP, Brazil. Electronic address: camilalorenz@usp.br.', 'Gerencia de Geoprocessamento e Informacoes Socioambientais (GISA), da Coordenacao de Epidemiologia e Informacao (CEInfo) da Secretaria Municipal de Saude de Sao Paulo, SP, Brazil.', 'Gerencia de Geoprocessamento e Informacoes Socioambientais (GISA), da Coordenacao de Epidemiologia e Informacao (CEInfo) da Secretaria Municipal de Saude de Sao Paulo, SP, Brazil.', 'Departamento de Geografia, Faculdade de Filosofia, Letras e Ciencias Humanas e Instituto de Estudos Avancados da Universidade de Sao Paulo, Sao Paulo, SP, Brazil.', 'Departamento de Epidemiologia, Faculdade de Saude Publica da Universidade de Sao Paulo, Sao Paulo, SP, Brazil.'], 'LA': ['eng'], 'PT': ['Journal Article'], 'DEP': '20201202', 'PL': 'Netherlands', 'TA': 'Travel Med Infect Dis', 'JT': 'Travel medicine and infectious disease', 'JID': '101230758', 'SB': 'IM', 'OTO': ['NOTNLM'], 'OT': ['Integrated Nested Laplace Approximation', 'Mortality', 'Pandemics', 'Spatio-Temporal Analysis', 'health inequity'], 'COIS': ['Declaration of Competing Interest I declare no competing interests.'], 'EDAT': '2020/12/06 06:00', 'MHDA': '2020/12/06 06:00', 'CRDT': ['2020/12/05 20:10'], 'PHST': ['2020/08/08 00:00 [received]', '2020/10/28 00:00 [revised]', '2020/11/27 00:00 [accepted]', '2020/12/05 20:10 [entrez]', '2020/12/06 06:00 [pubmed]', '2020/12/06 06:00 [medline]'], 'AID': ['S1477-8939(20)30442-7 [pii]', '10.1016/j.tmaid.2020.101945 [doi]'], 'PST': 'aheadofprint', 'SO': 'Travel Med Infect Dis. 2020 Dec 2:101945. doi: 10.1016/j.tmaid.2020.101945.'}, {'PMID': '33278609', 'OWN': 'NLM', 'STAT': 'Publisher', 'LR': '20201205', 'IS': '1873-0442 (Electronic) 1477-8939 (Linking)', 'DP': '2020 Dec 2', 'TI': 'Comparative evaluation of four rapid SARS-CoV-2 antigen detection tests using universal transport medium.', 'PG': '101942', 'LID': 'S1477-8939(20)30439-7 [pii] 10.1016/j.tmaid.2020.101942 [doi]', 'FAU': ['Weitzel, Thomas', 'Legarraga, Paulette', 'Iruretagoyena, Mirentxu', 'Pizarro, Gabriel', 'Vollrath, Valeska', 'Porte, Lorena', 'Araos, Rafael', 'Munita, Jose M'], 'AU': ['Weitzel T', 'Legarraga P', 'Iruretagoyena M', 'Pizarro G', 'Vollrath V', 'Porte L', 'Araos R', 'Munita JM'], 'AD': ['Laboratorio Clinico, Clinica Alemana, Universidad del Desarrollo, Santiago, Chile; Instituto de Ciencias e Innovacion en Medicina (ICIM), Facultad de Medicina Clinica Alemana, Universidad del Desarrollo, Santiago, Chile. Electronic address: thomas.weitzel@gmail.com.', 'Laboratorio Clinico, Clinica Alemana, Universidad del Desarrollo, Santiago, Chile.', 'Laboratorio Clinico, Clinica Alemana, Universidad del Desarrollo, Santiago, Chile.', 'Laboratorio Clinico, Clinica Alemana, Universidad del Desarrollo, Santiago, Chile.', 'Laboratorio Clinico, Clinica Alemana, Universidad del Desarrollo, Santiago, Chile.', 'Laboratorio Clinico, Clinica Alemana, Universidad del Desarrollo, Santiago, Chile. Electronic address: lporte@alemana.cl.', 'Instituto de Ciencias e Innovacion en Medicina (ICIM), Facultad de Medicina Clinica Alemana, Universidad del Desarrollo, Santiago, Chile; Servicio de Infectologia, Clinica Alemana de Santiago, Facultad de Medicina Clinica Alemana, Universidad del Desarrollo, Santiago, Chile; Millennium Initiative for Collaborative Research On Bacterial Resistance (MICROB-R), Santiago, Chile.', 'Instituto de Ciencias e Innovacion en Medicina (ICIM), Facultad de Medicina Clinica Alemana, Universidad del Desarrollo, Santiago, Chile; Servicio de Infectologia, Clinica Alemana de Santiago, Facultad de Medicina Clinica Alemana, Universidad del Desarrollo, Santiago, Chile; Millennium Initiative for Collaborative Research On Bacterial Resistance (MICROB-R), Santiago, Chile.'], 'LA': ['eng'], 'PT': ['Letter'], 'DEP': '20201202', 'PL': 'Netherlands', 'TA': 'Travel Med Infect Dis', 'JT': 'Travel medicine and infectious disease', 'JID': '101230758', 'SB': 'IM', 'OTO': ['NOTNLM'], 'OT': ['Antigen detection', 'COVID-19', 'Diagnosis', 'Rapid diagnostic test', 'SARS-CoV-2'], 'COIS': ['Declaration of Competing Interest There is no conflict of interest.'], 'EDAT': '2020/12/06 06:00', 'MHDA': '2020/12/06 06:00', 'CRDT': ['2020/12/05 20:10'], 'PHST': ['2020/06/23 00:00 [received]', '2020/11/23 00:00 [revised]', '2020/11/24 00:00 [accepted]', '2020/12/05 20:10 [entrez]', '2020/12/06 06:00 [pubmed]', '2020/12/06 06:00 [medline]'], 'AID': ['S1477-8939(20)30439-7 [pii]', '10.1016/j.tmaid.2020.101942 [doi]'], 'PST': 'aheadofprint', 'SO': 'Travel Med Infect Dis. 2020 Dec 2:101942. doi: 10.1016/j.tmaid.2020.101942.'}, {'PMID': '33278574', 'OWN': 'NLM', 'STAT': 'Publisher', 'LR': '20201205', 'IS': '1542-7714 (Electronic) 1542-3565 (Linking)', 'DP': '2020 Dec 2', 'TI': 'Psychological Health Among Gastroenterologists During the COVID-19 Pandemic: A National Survey.', 'LID': 'S1542-3565(20)31633-5 [pii] 10.1016/j.cgh.2020.11.043 [doi]', 'FAU': ['Shah, Eric D', 'Pourmorteza, Mohsen', 'Elmunzer, B Joseph', 'Ballou, Sarah K', 'Papachristou, Georgios I', 'Lara, Luis F', 'Okafor, Uche', 'Pfeil, Sheryl', 'Conwell, Darwin L', 'Krishna, Somashekar G'], 'AU': ['Shah ED', 'Pourmorteza M', 'Elmunzer BJ', 'Ballou SK', 'Papachristou GI', 'Lara LF', 'Okafor U', 'Pfeil S', 'Conwell DL', 'Krishna SG'], 'AD': ['Section of Gastroenterology and Hepatology, Dartmouth-Hitchcock Health, Lebanon, NH.', 'Division of Gastroenterology, Hepatology & Nutrition, The Ohio State Wexner Medical Center, Columbus, OH.', 'Division of Gastroenterology and Hepatology, Medical University of South Carolina, Charleston, SC.', 'Division of Gastroenterology, Beth Israel Deaconess Medical Center, Boston, MA.', 'Division of Gastroenterology, Hepatology & Nutrition, The Ohio State Wexner Medical Center, Columbus, OH.', 'Division of Gastroenterology, Hepatology & Nutrition, The Ohio State Wexner Medical Center, Columbus, OH.', 'Division of Gastroenterology, Hepatology & Nutrition, The Ohio State Wexner Medical Center, Columbus, OH.', 'Division of Gastroenterology, Hepatology & Nutrition, The Ohio State Wexner Medical Center, Columbus, OH.', 'Division of Gastroenterology, Hepatology & Nutrition, The Ohio State Wexner Medical Center, Columbus, OH.', 'Division of Gastroenterology, Hepatology & Nutrition, The Ohio State Wexner Medical Center, Columbus, OH. Electronic address: somashekar.krishna@osumc.edu.'], 'CN': ['North American Alliance for the Study of Digestive Manifestations of COVID-19'], 'LA': ['eng'], 'PT': ['Journal Article'], 'DEP': '20201202', 'PL': 'United States', 'TA': 'Clin Gastroenterol Hepatol', 'JT': 'Clinical gastroenterology and hepatology : the official clinical practice journal of the American Gastroenterological Association', 'JID': '101160775', 'SB': 'IM', 'OTO': ['NOTNLM'], 'OT': ['SARS-CoV-2', 'practice management'], 'EDAT': '2020/12/06 06:00', 'MHDA': '2020/12/06 06:00', 'CRDT': ['2020/12/05 20:09'], 'PHST': ['2020/11/11 00:00 [received]', '2020/11/20 00:00 [revised]', '2020/11/25 00:00 [accepted]', '2020/12/05 20:09 [entrez]', '2020/12/06 06:00 [pubmed]', '2020/12/06 06:00 [medline]'], 'AID': ['S1542-3565(20)31633-5 [pii]', '10.1016/j.cgh.2020.11.043 [doi]'], 'PST': 'aheadofprint', 'SO': 'Clin Gastroenterol Hepatol. 2020 Dec 2. pii: S1542-3565(20)31633-5. doi: 10.1016/j.cgh.2020.11.043.'}, {'PMID': '33278549', 'OWN': 'NLM', 'STAT': 'Publisher', 'LR': '20201205', 'IS': '1095-8304 (Electronic) 0195-6663 (Linking)', 'DP': '2020 Dec 2', 'TI': 'Exploring changes in body image, eating and exercise during the COVID-19 lockdown: A UK survey.', 'PG': '105062', 'LID': 'S0195-6663(20)31684-6 [pii] 10.1016/j.appet.2020.105062 [doi]', 'AB': \"Early reports suggest that lockdown measures associated with the COVID-19 pandemic (e.g., social distancing) are having adverse consequences for people's mental health, including increases in maladaptive eating habits and body dissatisfaction. Certain groups, such as those with pre-existing mental health difficulties, may be especially at risk. The current study explored perceived changes in eating, exercise, and body image during lockdown within the United Kingdom, using an online survey (n = 264). There were large individual differences in perceived changes in eating, exercise, and body image in this period. Women were more likely than men to report increasing struggles with regulating eating, preoccupation with food and worsening body image. Those with a current/past diagnosis of eating disorders reported significantly greater difficulties in regulating eating, increased preoccupation with food, exercise thoughts and behaviours and concern about appearance, even when compared to those with other mental health and developmental disorders. Ongoing research to explore individual differences in the trajectories of change in eating, exercise and body image as lockdown measures ease will be important for understanding the full psychological impact of this pandemic and improve service and public health planning going forward.\", 'CI': ['Copyright (c) 2020. Published by Elsevier Ltd.'], 'FAU': ['Robertson, MacKenzie', 'Duffy, Fiona', 'Newman, Emily', 'Bravo, Cecilia Prieto', 'Ates, Hasan Huseyin', 'Sharpe, Helen'], 'AU': ['Robertson M', 'Duffy F', 'Newman E', 'Bravo CP', 'Ates HH', 'Sharpe H'], 'AD': ['School of Health in Social Science, University of Edinburgh, Teviot Place, EH8 9AG, Edinburgh, UK.', 'School of Health in Social Science, University of Edinburgh, Teviot Place, EH8 9AG, Edinburgh, UK.', 'School of Health in Social Science, University of Edinburgh, Teviot Place, EH8 9AG, Edinburgh, UK.', 'Usher Institute, University of Edinburgh, Teviot Place, EH8 9AG, Edinburgh, UK.', 'School of Health in Social Science, University of Edinburgh, Teviot Place, EH8 9AG, Edinburgh, UK.', 'School of Health in Social Science, University of Edinburgh, Teviot Place, EH8 9AG, Edinburgh, UK. Electronic address: helen.sharpe@ed.ac.uk.'], 'LA': ['eng'], 'PT': ['Journal Article'], 'DEP': '20201202', 'PL': 'England', 'TA': 'Appetite', 'JT': 'Appetite', 'JID': '8006808', 'SB': 'IM', 'OTO': ['NOTNLM'], 'OT': ['COVID-19', 'body image', 'eating behaviour', 'eating disorders', 'exercise', 'survey'], 'EDAT': '2020/12/06 06:00', 'MHDA': '2020/12/06 06:00', 'CRDT': ['2020/12/05 20:09'], 'PHST': ['2020/07/30 00:00 [received]', '2020/10/20 00:00 [revised]', '2020/11/29 00:00 [accepted]', '2020/12/05 20:09 [entrez]', '2020/12/06 06:00 [pubmed]', '2020/12/06 06:00 [medline]'], 'AID': ['S0195-6663(20)31684-6 [pii]', '10.1016/j.appet.2020.105062 [doi]'], 'PST': 'aheadofprint', 'SO': 'Appetite. 2020 Dec 2:105062. doi: 10.1016/j.appet.2020.105062.'}, {'PMID': '33278526', 'OWN': 'NLM', 'STAT': 'Publisher', 'LR': '20201205', 'IS': '1097-6795 (Electronic) 0894-7317 (Linking)', 'DP': '2020 Dec 2', 'TI': 'Collaboration During Crisis: A Novel Point-of-Care Ultrasound Alliance Between Emergency Medicine, Internal Medicine, and Cardiology in the COVID-19 Era.', 'LID': 'S0894-7317(20)30774-4 [pii] 10.1016/j.echo.2020.11.019 [doi]', 'FAU': ['Panebianco, Nova', 'Baston, Cameron M', 'Mehta, Mili', 'Adusumalli, Srinath', 'Ferrari, Victor A', 'Jagasia, Dinesh', 'Scherrer-Crosbie, Marielle'], 'AU': ['Panebianco N', 'Baston CM', 'Mehta M', 'Adusumalli S', 'Ferrari VA', 'Jagasia D', 'Scherrer-Crosbie M'], 'AD': ['Perelman School of Medicine at the University of Pennsylvania, Department of Emergency Medicine. Electronic address: Nova.panebianco@uphs.upenn.edu.', 'Perelman School of Medicine at the University of Pennsylvania, Department of Medicine. Electronic address: cbass@alum.mit.edu.', 'Perelman School of Medicine at the University of Pennsylvania, Department of Medicine. Electronic address: Mili.Mehta@pennmedicine.upenn.edu.', 'Perelman School of Medicine at the University of Pennsylvania, Department of Medicine; Office of the Chief Medical Information Officer, University of Pennsylvania Health System; Center for Healthcare Innovation, University of Pennsylvania Health System. Electronic address: sri@pennmedicine.upenn.edu.', 'Perelman School of Medicine at the University of Pennsylvania, Department of Medicine. Electronic address: ferrariv@pennmedicine.upenn.edu.', 'Perelman School of Medicine at the University of Pennsylvania, Department of Medicine. Electronic address: Dinesh.Jagasia@pennmedicine.upenn.edu.', 'Perelman School of Medicine at the University of Pennsylvania, Department of Medicine. Electronic address: Marielle.Scherrer-Crosbie@pennmedicine.upenn.edu.'], 'LA': ['eng'], 'PT': ['Letter'], 'DEP': '20201202', 'PL': 'United States', 'TA': 'J Am Soc Echocardiogr', 'JT': 'Journal of the American Society of Echocardiography : official publication of the American Society of Echocardiography', 'JID': '8801388', 'SB': 'IM', 'EDAT': '2020/12/06 06:00', 'MHDA': '2020/12/06 06:00', 'CRDT': ['2020/12/05 20:09'], 'PHST': ['2020/10/22 00:00 [received]', '2020/11/29 00:00 [revised]', '2020/11/29 00:00 [accepted]', '2020/12/05 20:09 [entrez]', '2020/12/06 06:00 [pubmed]', '2020/12/06 06:00 [medline]'], 'AID': ['S0894-7317(20)30774-4 [pii]', '10.1016/j.echo.2020.11.019 [doi]'], 'PST': 'aheadofprint', 'SO': 'J Am Soc Echocardiogr. 2020 Dec 2. pii: S0894-7317(20)30774-4. doi: 10.1016/j.echo.2020.11.019.'}, {'PMID': '33278517', 'OWN': 'NLM', 'STAT': 'Publisher', 'LR': '20201205', 'IS': '1096-1208 (Electronic) 0882-4010 (Linking)', 'DP': '2020 Dec 2', 'TI': 'The interplay between inflammatory pathways and COVID-19: A critical review on pathogenesis and therapeutic options.', 'PG': '104673', 'LID': 'S0882-4010(20)31039-1 [pii] 10.1016/j.micpath.2020.104673 [doi]', 'AB': 'COVID-19, caused by SARS-CoV-2, emerged as the deadliest outbreak that has now become a serious health issue to mankind. Activation of inflammatory signaling pathways and cytokine storm are crucial factors that lead to acute respiratory distress syndrome (ARDS) in COVID-19 patients. Excessive secretion of pro-inflammatory cytokines and chemokines leads to the dysregulation of the innate immune system. The cytokine storm attracts many inflammatory cells that infiltrate into the lung tissues and ultimately cause immune damage. In addition to the dysregulation of the immune system, dysfunction of the renin-angiotensin system (RAS) due to the downregulation of ACE2 is also associated with the mortality of COVID-19 patients. Both the mechanisms are directly or indirectly associated with cytokine storm that promotes vascular hyperpermeability, vascular edema leading to hypercoagulation and hence multiorgan damage. As of now, there is no specific treatment available for COVID-19, but scientists have purposed several treatment options including cytokine inhibitors, JAK inhibitors, immunomodulators, plasma therapy, etc. In this article, we provide the detailed mechanism of occurrence of SARS-CoV-2 induced inflammatory storm and its connection with the pre-existing inflammatory conditions. Possible treatment options to cope up with the severe clinical manifestations of COVID-19 are also discussed.', 'CI': ['Copyright (c) 2020. Published by Elsevier Ltd.'], 'FAU': ['Choudhary, Shalki', 'Sharma, Kajal', 'Singh, Harpreet', 'Silakari, Om'], 'AU': ['Choudhary S', 'Sharma K', 'Singh H', 'Silakari O'], 'AD': ['Molecular Modeling Lab, Department of Pharmaceutical Sciences and Drug Research, Punjabi University, Patiala, Punjab, 147002, India.', 'Molecular Modeling Lab, Department of Pharmaceutical Sciences and Drug Research, Punjabi University, Patiala, Punjab, 147002, India.', 'Indian Council of Medical Research, New Delhi, India.', 'Molecular Modeling Lab, Department of Pharmaceutical Sciences and Drug Research, Punjabi University, Patiala, Punjab, 147002, India. Electronic address: omsilakari@gmail.com.'], 'LA': ['eng'], 'PT': ['Journal Article', 'Review'], 'DEP': '20201202', 'PL': 'England', 'TA': 'Microb Pathog', 'JT': 'Microbial pathogenesis', 'JID': '8606191', 'SB': 'IM', 'OTO': ['NOTNLM'], 'OT': ['ACE2', 'Cytokine storm', 'IFN- gamma', 'IL-6', 'SARS-CoV-2', 'TNF-alpha', 'Vascular edema'], 'COIS': ['Declaration of competing interest The authors declare that they have no known', 'competing financial interests or personal relationships that could have appeared', 'to influence the work reported in this paper.'], 'EDAT': '2020/12/06 06:00', 'MHDA': '2020/12/06 06:00', 'CRDT': ['2020/12/05 20:09'], 'PHST': ['2020/09/15 00:00 [received]', '2020/10/28 00:00 [revised]', '2020/11/27 00:00 [accepted]', '2020/12/05 20:09 [entrez]', '2020/12/06 06:00 [pubmed]', '2020/12/06 06:00 [medline]'], 'AID': ['S0882-4010(20)31039-1 [pii]', '10.1016/j.micpath.2020.104673 [doi]'], 'PST': 'aheadofprint', 'SO': 'Microb Pathog. 2020 Dec 2:104673. doi: 10.1016/j.micpath.2020.104673.'}, {'PMID': '33278516', 'OWN': 'NLM', 'STAT': 'Publisher', 'LR': '20201205', 'IS': '1096-1208 (Electronic) 0882-4010 (Linking)', 'DP': '2020 Dec 2', 'TI': 'ACE2 and TMPRSS2 polymorphisms in various diseases with special reference to its impact on COVID-19 disease.', 'PG': '104621', 'LID': 'S0882-4010(20)30987-6 [pii] 10.1016/j.micpath.2020.104621 [doi]', 'AB': \"BACKGROUND: A carboxypeptidase protein called ACE2 is found in many organs. ACE2 protein can play a pivotal role to regulate the pathological changes of several diseases including COVID-19. TMPRSS2 gene is expressed in many human tissues and plays a critical role in spreading the infection of the viruses including coronavirus and progression of prostate cancer, and hence could be used as a potential drug target. There are limited reports on occurrence of genetic polymorphism of ACE2 and TMPRSS2 in general population, expressions in pathological conditions, and its impact on COVID-19 disease. Hence we comprehended the occurrence of ACE2, TMPRSS2 polymorphism in general population, expression in various diseases and its impact on COVID-19 disease. METHOD: We utilized multiple databases, PubMed (Medline), EMBASE and Google Scholar for literature search. DESCRIPTION: ACE2 polymorphisms have significant linkages with various diseases, including severity of SARS-CoV-2 infection. Genetic variations of these genes contribute to individual's genetic susceptibility to viral infection and its subsequent clearance. The diversity and variations in the population distribution of these genes, might greatly influence and in turn reflect into the observed population and gender differences of the severity and clinical outcomes of SARS-CoV-2 infection. CONCLUSION: There are diversities in distribution of ACE2 and TMPRSS2 polymorphisms among different populations. Analyzing the genetic variants and expression of ACE2 and TMPRSS2 genes, in a population may provide the genetic marker for susceptibility or resistance against the coronavirus infection, which might be useful for identifying the susceptible population groups for targeted interventions and for making relevant public health policy decisions.\", 'CI': ['Copyright (c) 2020. Published by Elsevier Ltd.'], 'FAU': ['Singh, HariOm', 'Choudhari, Ranjana', 'Nema, Vijay', 'Khan, Abdul Arif'], 'AU': ['Singh H', 'Choudhari R', 'Nema V', 'Khan AA'], 'AD': ['Division of Molecular Biology, ICMR-National AIDS Research Institute, Pune, 411026, India. Electronic address: hariomsgpgims@gmail.com.', 'Department of Clinical Epidemiology, ICMR-National Institute of Occupational Health, Ahmedabad, 380016, India. Electronic address: ranjana_choudhary@rediffmail.com.', 'Division of Molecular Biology, ICMR-National AIDS Research Institute, Pune, 411026, India.', 'Division of Microbiology, ICMR-National AIDS Research Institute, Pune, 411026, India.'], 'LA': ['eng'], 'PT': ['Journal Article', 'Review'], 'DEP': '20201202', 'PL': 'England', 'TA': 'Microb Pathog', 'JT': 'Microbial pathogenesis', 'JID': '8606191', 'SB': 'IM', 'OTO': ['NOTNLM'], 'OT': ['ACE2', 'Antiviral response', 'Genetic polymorphism', 'SARS-CoV-2', 'TMPRSS2'], 'COIS': ['Declaration of competing interest No.'], 'EDAT': '2020/12/06 06:00', 'MHDA': '2020/12/06 06:00', 'CRDT': ['2020/12/05 20:09'], 'PHST': ['2020/08/25 00:00 [received]', '2020/11/04 00:00 [revised]', '2020/11/05 00:00 [accepted]', '2020/12/05 20:09 [entrez]', '2020/12/06 06:00 [pubmed]', '2020/12/06 06:00 [medline]'], 'AID': ['S0882-4010(20)30987-6 [pii]', '10.1016/j.micpath.2020.104621 [doi]'], 'PST': 'aheadofprint', 'SO': 'Microb Pathog. 2020 Dec 2:104621. doi: 10.1016/j.micpath.2020.104621.'}, {'PMID': '33278503', 'OWN': 'NLM', 'STAT': 'Publisher', 'LR': '20201205', 'IS': '1879-355X (Electronic) 0360-3016 (Linking)', 'DP': '2020 Dec 2', 'TI': 'Low-dose Whole-lung Irradiation for COVID-19 Pneumonia: Final Results of a Pilot Study.', 'LID': 'S0360-3016(20)34605-8 [pii] 10.1016/j.ijrobp.2020.11.065 [doi]', 'AB': 'INTRODUCTION: Radiotherapy (RT) -commonly employed in cancer management- has been considered as one of the potential treatments for COVID-19 pneumonia. Here, we present the results of the pilot trial evaluating low-dose whole-lung irradiation (LD-WLI) in patients with COVID-19 pneumonia. METHODS: Ten patients with moderate COVID-19 pneumonia were treated with LD-WLI in a single fraction of 0.5 or 1.0 Gy along with the national protocol. The primary endpoint was the improvement in SpO2. The secondary endpoints were the number of hospital/ICU stay days, the number of intubations after RT, 28-day mortality, and changes in biomarkers. The response rate (RR) was defined as a rise in SpO2 upon RT with a rising or constant trend in the next 2 days, clinical recovery (CR) included patients who were discharged or acquired SpO2>/=93% on room air, and 28-day mortality rate was defined based on RT day. RESULTS: The median age was 75 years (80% male). Five, 1, and 4 patients received single 0.5Gy, two 0.5Gy, and single 1.0Gy LD-WLI, respectively. The mean improvement in SpO2 at days 1 and 2 after RT was 2.4% (+/-4.8%) and 3.6% (+/-6.1%), respectively, with improvement in 9 patients after 1 day. Five, 1, and 4 patients were discharged, opted out the trial, and died in hospital, respectively. Two of 5 discharged patients died within 3 days at home. Among discharged patients, the SpO2 at discharge was 81-88% in 3 and 93% in the other 2 patients. Overall, the RR and CR were 63.6% and 55.5%, respectively. The RR, CR, and 28-day mortality of single 0.5Gy- and 1.0Gy-WLI were 71.4 vs. 50% (p = 0.57), 60 vs. 50% (p = 0.64), and 50 vs. 75% (p = 0.57), respectively. CONCLUSION: LD-WLI with a single 0.5 Gy or 1 Gy-fraction is feasible. A randomized trial with patients that do not receive radiation is required to assess efficacy of LD-WLI for COVID-19.', 'CI': ['Copyright (c) 2020 Elsevier Inc. All rights reserved.'], 'FAU': ['Ameri, Ahmad', 'Ameri, Pooya', 'Rahnama, Nazanin', 'Mokhtari, Majid', 'Sedaghat, Meghdad', 'Hadavand, Fahimeh', 'Bozorgmehr, Rama', 'Haghighi, Mehrdad', 'Taghizadeh-Hesary, Farzad'], 'AU': ['Ameri A', 'Ameri P', 'Rahnama N', 'Mokhtari M', 'Sedaghat M', 'Hadavand F', 'Bozorgmehr R', 'Haghighi M', 'Taghizadeh-Hesary F'], 'AD': ['Associate Professor of Clinical Oncology, Department of Clinical Oncology, Imam Hossein Hospital, Shahid Beheshti University of Medical Sciences, Tehran, Iran.', 'Medical student, Shahid Beheshti University of Medical Sciences, Tehran, Iran.', 'Department of Clinical Oncology, Imam Hossein Hospital, Shahid Beheshti University of Medical Sciences, Tehran, Iran.', 'Associate Professor of Pulmonary and Critical Care Medicine, Loghman Hakim Hospital, Shahid Beheshti University of Medical Sciences, Tehran, Iran.', 'Assistant Professor of Internal Medicine, Department of Internal Medicine, Imam Hossein Hospital, Shahid Beheshti University of Medical Sciences, Tehran, Iran.', 'Assistant Professor, Infectious Diseases and Tropical Medicine Research Center, Shahid Beheshti University of Medical Sciences, Tehran, Iran.', 'Assistant Professor of Pulmonology, Clinical Research Development Unit, Shohadaye Tajrish Hospital, Shahid Beheshti University of Medical Sciences, Tehran, Iran.', 'Assistant Professor, Infectious Diseases and Tropical Medicine Research Center, Shahid Beheshti University of Medical Sciences, Tehran, Iran.', 'Department of Clinical Oncology, Shahid Beheshti University of Medical Sciences, Tehran, Iran. Electronic address: f_taghizadeh@sbmu.ac.ir.'], 'LA': ['eng'], 'PT': ['Journal Article'], 'DEP': '20201202', 'PL': 'United States', 'TA': 'Int J Radiat Oncol Biol Phys', 'JT': 'International journal of radiation oncology, biology, physics', 'JID': '7603616', 'SB': 'IM', 'OTO': ['NOTNLM'], 'OT': ['COVID-19', 'Low-dose whole-lung irradiation', 'Pneumonia', 'SpO(2)'], 'EDAT': '2020/12/06 06:00', 'MHDA': '2020/12/06 06:00', 'CRDT': ['2020/12/05 20:09'], 'PHST': ['2020/08/31 00:00 [received]', '2020/11/21 00:00 [revised]', '2020/11/26 00:00 [accepted]', '2020/12/05 20:09 [entrez]', '2020/12/06 06:00 [pubmed]', '2020/12/06 06:00 [medline]'], 'AID': ['S0360-3016(20)34605-8 [pii]', '10.1016/j.ijrobp.2020.11.065 [doi]'], 'PST': 'aheadofprint', 'SO': 'Int J Radiat Oncol Biol Phys. 2020 Dec 2. pii: S0360-3016(20)34605-8. doi: 10.1016/j.ijrobp.2020.11.065.'}, {'PMID': '33278491', 'OWN': 'NLM', 'STAT': 'Publisher', 'LR': '20201205', 'IS': '1872-8057 (Electronic) 0303-7207 (Linking)', 'DP': '2020 Dec 2', 'TI': 'Thyroid dysfunction may be associated with poor outcomes in patients with COVID-19.', 'PG': '111097', 'LID': 'S0303-7207(20)30399-3 [pii] 10.1016/j.mce.2020.111097 [doi]', 'AB': 'BACKGROUND: Coronavirus disease (COVID-19) has resulted in considerable morbidity and mortality worldwide. Thyroid hormones play a key role in modulating metabolism and the immune system. However, the prevalence of thyroid dysfunction (TD) and its association with the prognosis of COVID-19 have not yet been elucidated. In this study, we seek to address this gap and understand the link between TD and COVID-19. METHODS: Herein, we enrolled patients who were hospitalised with COVID-19 and had normal or abnormal thyroid function test results at the West Court of Union Hospital in Wuhan, China, between 29 January and 26 February 2020. We carried out follow up examinations until 26 April 2020. Data on clinical features, treatment strategies, and prognosis were collected and analysed. TD was defined as an abnormal thyroid function test result, including overt thyrotoxicosis, overt hypothyroidism, subclinical hypothyroidism, subclinical hyperthyroidism, and euthyroid sick syndrome. RESULTS: A total of 25 and 46 COVID-19 patients with and without TD, respectively, were included in the study. COVID-19 patients with TD had significantly higher neutrophil counts and higher levels of C-reactive protein, procalcitonin, lactate dehydrogenase, serum creatine kinase, aspartate transaminase, and high-sensitive troponin I and a longer activated partial thromboplastin time but lower lymphocyte, platelet, and eosinophil counts. A longitudinal analysis of serum biomarkers showed that patients with TD presented persistently high levels of biomarkers for inflammatory response and cardiac injury. COVID-19 patients with TD were more likely to develop a critical subtype of the disease. Patients with TD had a significantly higher fatality rate than did those without TD during hospitalisation (20% vs 0%, P<0.0001). Patients with TD were more likely to stay in the hospital for more than 28 days than were those without TD (80% vs 56.52%, P=0.048). CONCLUSIONS: Our preliminary findings suggest that TD is associated with poor outcomes in patients with COVID-19.', 'CI': ['Copyright (c) 2020 Elsevier B.V. All rights reserved.'], 'FAU': ['Zhang, Yan', 'Lin, Fengyu', 'Tu, Wei', 'Zhang, Jianchu', 'Choudhry, Abira Afzal', 'Ahmed, Omair', 'Cheng, Jun', 'Cui, Yanhui', 'Liu, Ben', 'Dai, Minhui', 'Chen, Lingli', 'Han, Duoduo', 'Fan, Yifei', 'Zeng, Yanjun', 'Li, Wen', 'Li, Sha', 'Chen, Xiang', 'Shen, Minxue', 'Pan, Pinhua'], 'AU': ['Zhang Y', 'Lin F', 'Tu W', 'Zhang J', 'Choudhry AA', 'Ahmed O', 'Cheng J', 'Cui Y', 'Liu B', 'Dai M', 'Chen L', 'Han D', 'Fan Y', 'Zeng Y', 'Li W', 'Li S', 'Chen X', 'Shen M', 'Pan P'], 'AD': ['Department of Respiratory Medicine, Xiangya Hospital, Central South University, Changsha, Hunan 410008, China.', 'Department of Respiratory Medicine, Xiangya Hospital, Central South University, Changsha, Hunan 410008, China.', 'Division of Allergy and Clinical Immunology, John Hopkins University School of Medicine, Baltimore, MD 21224, USA.', 'Department of Respiratory Medicine, Union Hospital of Huazhong University of Science and Technology, Wuhan, Hubei 430022, China.', 'Ziauddin University, Clifton, Karachi 75600, Pakistan.', 'Ziauddin University, Clifton, Karachi 75600, Pakistan.', 'Department of Gastrointestinal Surgery& Breast& Thyroid Surgery, Changsha Hospital of Traditional Chinese Medicine, Changsha, Hunan, China.', 'Department of Respiratory Medicine, Xiangya Hospital, Central South University, Changsha, Hunan 410008, China.', 'Department of Respiratory Medicine, Xiangya Hospital, Central South University, Changsha, Hunan 410008, China.', 'Department of Respiratory Medicine, Xiangya Hospital, Central South University, Changsha, Hunan 410008, China.', 'Department of Respiratory Medicine, Xiangya Hospital, Central South University, Changsha, Hunan 410008, China.', 'Department of Respiratory Medicine, Xiangya Hospital, Central South University, Changsha, Hunan 410008, China.', 'Department of Respiratory Medicine, Xiangya Hospital, Central South University, Changsha, Hunan 410008, China.', 'Department of Respiratory Medicine, Xiangya Hospital, Central South University, Changsha, Hunan 410008, China.', 'Department of Respiratory Medicine, Xiangya Hospital, Central South University, Changsha, Hunan 410008, China.', 'Department of Radiology, Xiangya Hospital, Central South University. Changsha, Hunan 410008, China.', 'Department of Dermatology, Xiangya Hospital, Central South University, Changsha, Hunan 410008, China.', 'Department of Dermatology, Xiangya Hospital, Central South University, Changsha, Hunan 410008, China; Department of Social Medicine and Health Management, Xiangya School of Public Health, Central South University, Changsha, Hunan 410008, China. Electronic address: shenmx1988@csu.edu.cn.', 'Department of Respiratory Medicine, Xiangya Hospital, Central South University, Changsha, Hunan 410008, China. Electronic address: pinhuapan668@cus.edu.cn.'], 'CN': ['medical team from Xiangya Hospital to support Hubei, China'], 'LA': ['eng'], 'PT': ['Journal Article'], 'DEP': '20201202', 'PL': 'Ireland', 'TA': 'Mol Cell Endocrinol', 'JT': 'Molecular and cellular endocrinology', 'JID': '7500844', 'SB': 'IM', 'OTO': ['NOTNLM'], 'OT': ['COVID-19', 'SARS-CoV-2', 'prognosis', 'thyroid dysfunction'], 'COIS': ['Declaration of Competing Interest The authors declare no conflicts of interest.'], 'EDAT': '2020/12/06 06:00', 'MHDA': '2020/12/06 06:00', 'CRDT': ['2020/12/05 20:09'], 'PHST': ['2020/08/31 00:00 [received]', '2020/11/21 00:00 [revised]', '2020/11/25 00:00 [accepted]', '2020/12/05 20:09 [entrez]', '2020/12/06 06:00 [pubmed]', '2020/12/06 06:00 [medline]'], 'AID': ['S0303-7207(20)30399-3 [pii]', '10.1016/j.mce.2020.111097 [doi]'], 'PST': 'aheadofprint', 'SO': 'Mol Cell Endocrinol. 2020 Dec 2:111097. doi: 10.1016/j.mce.2020.111097.'}]\n"
     ]
    }
   ],
   "source": [
    "#Medline records\n",
    "from Bio import Medline\n",
    "handle = Entrez.efetch(db=\"pubmed\", id=idlist, rettype=\"medline\",retmode=\"text\")\n",
    "records = Medline.parse(handle)\n",
    "record = list(records)\n",
    "print(record)"
   ]
  },
  {
   "cell_type": "code",
   "execution_count": 30,
   "metadata": {
    "scrolled": true
   },
   "outputs": [
    {
     "name": "stdout",
     "output_type": "stream",
     "text": [
      "title: While studies on covid-19 vaccine is ongoing; the public's thoughts and attitudes to the future Covid-19 vaccine.\n",
      "authors: ['Akarsu B', 'Canbay Ozdemir D', 'Ayhan Baser D', 'Aksoy H', 'Fidanci I', 'Cankurtaran M']\n",
      "source: Int J Clin Pract. 2020 Dec 5:e13891. doi: 10.1111/ijcp.13891.\n",
      "\n",
      "title: COVID-19; current situation and recommended interventions.\n",
      "authors: ['Saeed H', 'Osama H', 'Madney YM', 'Harb HS', 'Abdelrahman MA', 'Ehrhardt C', 'Abdelrahim MEA']\n",
      "source: Int J Clin Pract. 2020 Dec 5:e13886. doi: 10.1111/ijcp.13886.\n",
      "\n",
      "title: Incidence and outcome of SARS-CoV-2 infection on solid organ transplantation recipients: A nationwide population-based study.\n",
      "authors: ['Trapani S', 'Masiero L', 'Puoti F', 'Rota MC', 'Del Manso M', 'Lombardini L', 'Riccardo F', 'Amoroso A', 'Pezzotti P', 'Antonio Grossi P', 'Brusaferro S', 'Cardillo M']\n",
      "source: Am J Transplant. 2020 Dec 5. doi: 10.1111/ajt.16428.\n",
      "\n",
      "title: Clinical status and lung function 10 weeks after severe SARS-CoV-2 infection.\n",
      "authors: ['Smet J', 'Stylemans D', 'Hanon S', 'Verbanck S', 'Vanderhelst E', 'Ilsen B']\n",
      "source: Respir Med. 2020 Nov 30;176:106276. doi: 10.1016/j.rmed.2020.106276.\n",
      "\n",
      "title: Pentoxifylline decreases serum LDH levels and increases lymphocyte count in COVID-19 patients: Results from an external pilot study.\n",
      "authors: ['Maldonado V', 'Hernandez-Ramirez C', 'Oliva-Perez EA', 'Sanchez-Martinez CO', 'Pimentel-Gonzalez JF', 'Molina-Sanchez JR', 'Jimenez-Villalba YZ', 'Chavez-Alderete J', 'Loza-Mejia MA']\n",
      "source: Int Immunopharmacol. 2020 Nov 26;90:107209. doi: 10.1016/j.intimp.2020.107209.\n",
      "\n",
      "title: Analytical and clinical comparison of Viasure (CerTest Biotec) and 2019-nCoV CDC (IDT) RT-qPCR kits for SARS-CoV2 diagnosis.\n",
      "authors: ['Freire-Paspuel B', 'Vega-Marino P', 'Velez A', 'Cruz M', 'Perez F', 'Garcia-Bereguiain MA']\n",
      "source: Virology. 2020 Nov 18;553:154-156. doi: 10.1016/j.virol.2020.10.010.\n",
      "\n",
      "title: SARS-CoV-2 replicates in respiratory ex vivo organ cultures of domestic ruminant species.\n",
      "authors: ['Di Teodoro G', 'Valleriani F', 'Puglia I', 'Monaco F', 'Di Pancrazio C', 'Luciani M', 'Krasteva I', 'Petrini A', 'Marcacci M', \"D'Alterio N\", 'Curini V', 'Iorio M', 'Migliorati G', 'Di Domenico M', 'Morelli D', 'Calistri P', 'Savini G', 'Decaro N', 'Holmes EC', 'Lorusso A']\n",
      "source: Vet Microbiol. 2020 Nov 24;252:108933. doi: 10.1016/j.vetmic.2020.108933.\n",
      "\n",
      "title: Implementation of a cluster randomized controlled trial: Identifying student peer leaders to lead E-cigarette interventions.\n",
      "authors: ['Chu KH', 'Sidani J', 'Matheny S', 'Rothenberger SD', 'Miller E', 'Valente T', 'Robertson L']\n",
      "source: Addict Behav. 2020 Nov 10;114:106726. doi: 10.1016/j.addbeh.2020.106726.\n",
      "\n",
      "title: Systematic Duplex Ultrasound Screening in Conventional Units for COVID-19 Patients with Follow-up of 5 Days.\n",
      "authors: ['Hamade A', 'Jambert L', 'Tousch J', 'Talbot M', 'Dervieux B', 'Nazer TE', 'Bensalah N', 'Michel P', 'Lehn-Hogg M', 'Buschenrieder N', 'Obringer G', 'Jacquemin L', 'Hinschberger O', 'Stephan D', 'Woehl B']\n",
      "source: J Vasc Surg Venous Lymphat Disord. 2020 Dec 2. pii: S2213-333X(20)30647-8. doi: 10.1016/j.jvsv.2020.11.019.\n",
      "\n",
      "title: A five day course of ivermectin for the treatment of COVID-19 may reduce the duration of illness.\n",
      "authors: ['Ahmed S', 'Karim MM', 'Ross AG', 'Hossain MS', 'Clemens JD', 'Sumiya MK', 'Phru CS', 'Rahman M', 'Zaman K', 'Somani J', 'Yasmin R', 'Hasnat MA', 'Kabir A', 'Aziz AB', 'Khan WA']\n",
      "source: Int J Infect Dis. 2020 Dec 2. pii: S1201-9712(20)32506-6. doi: 10.1016/j.ijid.2020.11.191.\n",
      "\n",
      "title: Impact of low serum calcium at hospital admission on SARS-CoV-2 infection outcome.\n",
      "authors: ['Torres B', 'Alcubilla P', 'Gonzalez-Cordon A', 'Inciarte A', 'Chumbita M', 'Cardozo C', 'Meira F', 'Gimenez M', 'de Hollanda A', 'Soriano A']\n",
      "source: Int J Infect Dis. 2020 Dec 2. pii: S1201-9712(20)32523-6. doi: 10.1016/j.ijid.2020.11.207.\n",
      "\n",
      "title: Spatiotemporal ecological study of COVID-19 mortality in the city of Sao Paulo, Brazil: Shifting of the high mortality risk from areas with the best to those with the worst socio-economic conditions.\n",
      "authors: ['Bermudi PMM', 'Lorenz C', 'Aguiar BS', 'Failla MA', 'Barrozo LV', 'Neto FC']\n",
      "source: Travel Med Infect Dis. 2020 Dec 2:101945. doi: 10.1016/j.tmaid.2020.101945.\n",
      "\n",
      "title: Comparative evaluation of four rapid SARS-CoV-2 antigen detection tests using universal transport medium.\n",
      "authors: ['Weitzel T', 'Legarraga P', 'Iruretagoyena M', 'Pizarro G', 'Vollrath V', 'Porte L', 'Araos R', 'Munita JM']\n",
      "source: Travel Med Infect Dis. 2020 Dec 2:101942. doi: 10.1016/j.tmaid.2020.101942.\n",
      "\n",
      "title: Psychological Health Among Gastroenterologists During the COVID-19 Pandemic: A National Survey.\n",
      "authors: ['Shah ED', 'Pourmorteza M', 'Elmunzer BJ', 'Ballou SK', 'Papachristou GI', 'Lara LF', 'Okafor U', 'Pfeil S', 'Conwell DL', 'Krishna SG']\n",
      "source: Clin Gastroenterol Hepatol. 2020 Dec 2. pii: S1542-3565(20)31633-5. doi: 10.1016/j.cgh.2020.11.043.\n",
      "\n",
      "title: Exploring changes in body image, eating and exercise during the COVID-19 lockdown: A UK survey.\n",
      "authors: ['Robertson M', 'Duffy F', 'Newman E', 'Bravo CP', 'Ates HH', 'Sharpe H']\n",
      "source: Appetite. 2020 Dec 2:105062. doi: 10.1016/j.appet.2020.105062.\n",
      "\n",
      "title: Collaboration During Crisis: A Novel Point-of-Care Ultrasound Alliance Between Emergency Medicine, Internal Medicine, and Cardiology in the COVID-19 Era.\n",
      "authors: ['Panebianco N', 'Baston CM', 'Mehta M', 'Adusumalli S', 'Ferrari VA', 'Jagasia D', 'Scherrer-Crosbie M']\n",
      "source: J Am Soc Echocardiogr. 2020 Dec 2. pii: S0894-7317(20)30774-4. doi: 10.1016/j.echo.2020.11.019.\n",
      "\n",
      "title: The interplay between inflammatory pathways and COVID-19: A critical review on pathogenesis and therapeutic options.\n",
      "authors: ['Choudhary S', 'Sharma K', 'Singh H', 'Silakari O']\n",
      "source: Microb Pathog. 2020 Dec 2:104673. doi: 10.1016/j.micpath.2020.104673.\n",
      "\n",
      "title: ACE2 and TMPRSS2 polymorphisms in various diseases with special reference to its impact on COVID-19 disease.\n",
      "authors: ['Singh H', 'Choudhari R', 'Nema V', 'Khan AA']\n",
      "source: Microb Pathog. 2020 Dec 2:104621. doi: 10.1016/j.micpath.2020.104621.\n",
      "\n",
      "title: Low-dose Whole-lung Irradiation for COVID-19 Pneumonia: Final Results of a Pilot Study.\n",
      "authors: ['Ameri A', 'Ameri P', 'Rahnama N', 'Mokhtari M', 'Sedaghat M', 'Hadavand F', 'Bozorgmehr R', 'Haghighi M', 'Taghizadeh-Hesary F']\n",
      "source: Int J Radiat Oncol Biol Phys. 2020 Dec 2. pii: S0360-3016(20)34605-8. doi: 10.1016/j.ijrobp.2020.11.065.\n",
      "\n",
      "title: Thyroid dysfunction may be associated with poor outcomes in patients with COVID-19.\n",
      "authors: ['Zhang Y', 'Lin F', 'Tu W', 'Zhang J', 'Choudhry AA', 'Ahmed O', 'Cheng J', 'Cui Y', 'Liu B', 'Dai M', 'Chen L', 'Han D', 'Fan Y', 'Zeng Y', 'Li W', 'Li S', 'Chen X', 'Shen M', 'Pan P']\n",
      "source: Mol Cell Endocrinol. 2020 Dec 2:111097. doi: 10.1016/j.mce.2020.111097.\n",
      "\n"
     ]
    }
   ],
   "source": [
    "# Iterate over records to print information\n",
    "for recore in record:\n",
    "    print(\"Title:\", recore.get(\"TI\", \"?\"))\n",
    "    print(\"Authors:\", recore.get(\"AU\", \"?\"))\n",
    "    print(\"Source:\", recore.get(\"SO\", \"?\"))\n",
    "    print(\"\")"
   ]
  },
  {
   "cell_type": "code",
   "execution_count": 47,
   "metadata": {},
   "outputs": [
    {
     "name": "stdout",
     "output_type": "stream",
     "text": [
      "255216\n"
     ]
    }
   ],
   "source": [
    "#Searching and parsing nucleotide records\n",
    "handle = Entrez.egquery(term=\"SARS\")\n",
    "record = Entrez.read(handle)\n",
    "for row in record[\"eGQueryResult\"]:\n",
    "    if row[\"DbName\"]==\"nuccore\":\n",
    "        print(row[\"Count\"])\n",
    "        \n",
    "handle = Entrez.esearch(db=\"nucleotide\", term=\"SARS\", retmax=100, idtype=\"acc\")\n",
    "record = Entrez.read(handle)\n",
    "handle.close()"
   ]
  },
  {
   "cell_type": "code",
   "execution_count": 48,
   "metadata": {},
   "outputs": [
    {
     "name": "stdout",
     "output_type": "stream",
     "text": [
      "dict_keys(['Count', 'RetMax', 'RetStart', 'IdList', 'TranslationSet', 'TranslationStack', 'QueryTranslation'])\n"
     ]
    }
   ],
   "source": [
    "print(record.keys())"
   ]
  },
  {
   "cell_type": "code",
   "execution_count": 49,
   "metadata": {},
   "outputs": [
    {
     "data": {
      "text/plain": [
       "100"
      ]
     },
     "execution_count": 49,
     "metadata": {},
     "output_type": "execute_result"
    }
   ],
   "source": [
    "len(record[\"IdList\"])"
   ]
  },
  {
   "cell_type": "code",
   "execution_count": null,
   "metadata": {},
   "outputs": [],
   "source": [
    "# Create the pathogen alignment module\n",
    "# Chapter 6"
   ]
  },
  {
   "cell_type": "code",
   "execution_count": null,
   "metadata": {},
   "outputs": [],
   "source": [
    "# Create pathogen phylo tree module\n",
    "# Chapter 13"
   ]
  },
  {
   "cell_type": "code",
   "execution_count": null,
   "metadata": {},
   "outputs": [],
   "source": [
    "# Create the host pathogen alignment module\n",
    "# Chapter 6 Biopython"
   ]
  },
  {
   "cell_type": "code",
   "execution_count": null,
   "metadata": {},
   "outputs": [],
   "source": [
    "# Create alignment view module\n",
    "# Chapter 17"
   ]
  }
 ],
 "metadata": {
  "kernelspec": {
   "display_name": "Python 3",
   "language": "python",
   "name": "python3"
  },
  "language_info": {
   "codemirror_mode": {
    "name": "ipython",
    "version": 3
   },
   "file_extension": ".py",
   "mimetype": "text/x-python",
   "name": "python",
   "nbconvert_exporter": "python",
   "pygments_lexer": "ipython3",
   "version": "3.8.3"
  }
 },
 "nbformat": 4,
 "nbformat_minor": 4
}
